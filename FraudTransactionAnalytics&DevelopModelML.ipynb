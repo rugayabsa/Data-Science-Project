{
  "nbformat": 4,
  "nbformat_minor": 0,
  "metadata": {
    "colab": {
      "name": "SayurBox_MLCaseStudy1_Fraud.ipynb",
      "provenance": [],
      "collapsed_sections": []
    },
    "kernelspec": {
      "name": "python3",
      "display_name": "Python 3"
    },
    "language_info": {
      "name": "python"
    },
    "accelerator": "GPU"
  },
  "cells": [
    {
      "cell_type": "markdown",
      "source": [
        "There are two datasets, namely transaction data and customer data. The aim is to develop a model that can be used to determine whether a customer commits fraud based on customer profiles and transaction data.\n",
        "\n",
        "In the world of payments, fraudulent transactions are illegal or illegal transactions. For example is a credit card transaction that is not known by the card owner. Those who carry out fraudulent transactions are usually called fraudsters, and use card information to buy goods/services for their own benefit.\n",
        "\n",
        "I will analyze the pattern of transaction behavior through various data such as card numbers, emails, telephone numbers, and so on. And use machine learning to predict fraud"
      ],
      "metadata": {
        "id": "UPlKpXmLsiw5"
      }
    },
    {
      "cell_type": "markdown",
      "source": [
        "#1. IMPORT LIBRARIES"
      ],
      "metadata": {
        "id": "lgrsU-lJeVE8"
      }
    },
    {
      "cell_type": "code",
      "source": [
        "import pandas as pd\n",
        "import numpy as np\n",
        "import matplotlib.pyplot as plt\n",
        "from matplotlib import colors\n",
        "from matplotlib.colors import ListedColormap\n",
        "import seaborn as sns\n",
        "from scipy import stats\n",
        "import math\n",
        "import scipy.stats as ss\n",
        "%matplotlib inline\n",
        "plt.style.use('fivethirtyeight')\n",
        "\n",
        "from sklearn.preprocessing import OrdinalEncoder, LabelEncoder, OneHotEncoder\n",
        "from sklearn.feature_selection import SelectKBest\n",
        "from sklearn.feature_selection import chi2\n",
        "from collections import Counter\n",
        "\n",
        "from sklearn.metrics import confusion_matrix, classification_report\n",
        "from sklearn.metrics import accuracy_score, f1_score,recall_score, precision_score"
      ],
      "metadata": {
        "id": "DU4u3rD-eUc-"
      },
      "execution_count": null,
      "outputs": []
    },
    {
      "cell_type": "markdown",
      "source": [
        "#2. DATA LOADING & CLEANING"
      ],
      "metadata": {
        "id": "QYZF2FJEf-Og"
      }
    },
    {
      "cell_type": "markdown",
      "source": [
        "###2.1 LOADING DATA"
      ],
      "metadata": {
        "id": "UTksP4iSgDsy"
      }
    },
    {
      "cell_type": "code",
      "source": [
        "df1 = pd.read_csv('customer_data.csv')\n",
        "df1.head(20)"
      ],
      "metadata": {
        "colab": {
          "base_uri": "https://localhost:8080/",
          "height": 1000
        },
        "id": "oaewI3A08Zoz",
        "outputId": "1d9d13b3-cc16-49e3-932b-a304a87c1f37"
      },
      "execution_count": null,
      "outputs": [
        {
          "output_type": "execute_result",
          "data": {
            "text/html": [
              "\n",
              "  <div id=\"df-7c213280-e9f3-4eae-bce8-7a193cec4b3b\">\n",
              "    <div class=\"colab-df-container\">\n",
              "      <div>\n",
              "<style scoped>\n",
              "    .dataframe tbody tr th:only-of-type {\n",
              "        vertical-align: middle;\n",
              "    }\n",
              "\n",
              "    .dataframe tbody tr th {\n",
              "        vertical-align: top;\n",
              "    }\n",
              "\n",
              "    .dataframe thead th {\n",
              "        text-align: right;\n",
              "    }\n",
              "</style>\n",
              "<table border=\"1\" class=\"dataframe\">\n",
              "  <thead>\n",
              "    <tr style=\"text-align: right;\">\n",
              "      <th></th>\n",
              "      <th>Unnamed: 0</th>\n",
              "      <th>customerEmail</th>\n",
              "      <th>customerPhone</th>\n",
              "      <th>customerDevice</th>\n",
              "      <th>customerIPAddress</th>\n",
              "      <th>customerBillingAddress</th>\n",
              "      <th>No_Transactions</th>\n",
              "      <th>No_Orders</th>\n",
              "      <th>No_Payments</th>\n",
              "      <th>Fraud</th>\n",
              "    </tr>\n",
              "  </thead>\n",
              "  <tbody>\n",
              "    <tr>\n",
              "      <th>0</th>\n",
              "      <td>0</td>\n",
              "      <td>josephhoward@yahoo.com</td>\n",
              "      <td>400-108-5415</td>\n",
              "      <td>yyeiaxpltf82440jnb3v</td>\n",
              "      <td>8.129.104.40</td>\n",
              "      <td>5493 Jones Islands\\nBrownside, CA 51896</td>\n",
              "      <td>2</td>\n",
              "      <td>2</td>\n",
              "      <td>1</td>\n",
              "      <td>False</td>\n",
              "    </tr>\n",
              "    <tr>\n",
              "      <th>1</th>\n",
              "      <td>1</td>\n",
              "      <td>evansjeffery@yahoo.com</td>\n",
              "      <td>1-788-091-7546</td>\n",
              "      <td>r0jpm7xaeqqa3kr6mzum</td>\n",
              "      <td>219.173.211.202</td>\n",
              "      <td>356 Elizabeth Inlet Suite 120\\nPort Joshuabury...</td>\n",
              "      <td>3</td>\n",
              "      <td>3</td>\n",
              "      <td>7</td>\n",
              "      <td>True</td>\n",
              "    </tr>\n",
              "    <tr>\n",
              "      <th>2</th>\n",
              "      <td>2</td>\n",
              "      <td>andersonwilliam@yahoo.com</td>\n",
              "      <td>024.420.0375</td>\n",
              "      <td>4m7h5ipl1shyavt6vv2r</td>\n",
              "      <td>67b7:3db8:67e0:3bea:b9d0:90c1:2b60:b9f0</td>\n",
              "      <td>8478 Sean Ridges Apt. 441\\nDavisberg, PR 72250</td>\n",
              "      <td>5</td>\n",
              "      <td>3</td>\n",
              "      <td>2</td>\n",
              "      <td>False</td>\n",
              "    </tr>\n",
              "    <tr>\n",
              "      <th>3</th>\n",
              "      <td>3</td>\n",
              "      <td>rubenjuarez@yahoo.com</td>\n",
              "      <td>670.664.8168x94985</td>\n",
              "      <td>slovx60t0i558may4ks0</td>\n",
              "      <td>95de:8565:5a66:792c:26e0:6cfb:7d87:11af</td>\n",
              "      <td>7769 Elizabeth Bridge Apt. 343\\nNortonstad, FM...</td>\n",
              "      <td>3</td>\n",
              "      <td>3</td>\n",
              "      <td>1</td>\n",
              "      <td>False</td>\n",
              "    </tr>\n",
              "    <tr>\n",
              "      <th>4</th>\n",
              "      <td>4</td>\n",
              "      <td>uchen@malone.com</td>\n",
              "      <td>1-981-877-0870</td>\n",
              "      <td>j0pd24k5h8dl2fqu0cz4</td>\n",
              "      <td>196.89.235.192</td>\n",
              "      <td>148 Russell Lodge Apt. 445\\nPort Jenniferside,...</td>\n",
              "      <td>7</td>\n",
              "      <td>7</td>\n",
              "      <td>6</td>\n",
              "      <td>True</td>\n",
              "    </tr>\n",
              "    <tr>\n",
              "      <th>5</th>\n",
              "      <td>5</td>\n",
              "      <td>robinsoncynthia@dunn.com</td>\n",
              "      <td>+65(5)8997489788</td>\n",
              "      <td>hbww39m1wenbq4ymjhsx</td>\n",
              "      <td>43.166.163.164</td>\n",
              "      <td>65233 Hutchinson Mountains\\nMartinezside, OR 7...</td>\n",
              "      <td>1</td>\n",
              "      <td>1</td>\n",
              "      <td>2</td>\n",
              "      <td>True</td>\n",
              "    </tr>\n",
              "    <tr>\n",
              "      <th>6</th>\n",
              "      <td>6</td>\n",
              "      <td>samuel15@saunders-rhodes.com</td>\n",
              "      <td>05045239487</td>\n",
              "      <td>up7afvce5v0omniqlevq</td>\n",
              "      <td>33.67.35.30</td>\n",
              "      <td>3960 Emily Fort\\nStaceytown, AR 21817-3325</td>\n",
              "      <td>2</td>\n",
              "      <td>1</td>\n",
              "      <td>2</td>\n",
              "      <td>True</td>\n",
              "    </tr>\n",
              "    <tr>\n",
              "      <th>7</th>\n",
              "      <td>7</td>\n",
              "      <td>johnlowery@gmail.com</td>\n",
              "      <td>044-642-9860</td>\n",
              "      <td>rjb0adai34izqvys4938</td>\n",
              "      <td>212.144.68.190</td>\n",
              "      <td>484 Pamela Pass\\nLake Jessicaview, WI 12942-9074</td>\n",
              "      <td>6</td>\n",
              "      <td>5</td>\n",
              "      <td>2</td>\n",
              "      <td>True</td>\n",
              "    </tr>\n",
              "    <tr>\n",
              "      <th>8</th>\n",
              "      <td>8</td>\n",
              "      <td>jameslandry@rodriguez.com</td>\n",
              "      <td>1-885-168-1310x338</td>\n",
              "      <td>yz4l2bgbvzra5eb5qcan</td>\n",
              "      <td>c899:ff67:6864:4365:def3:3023:655f:5181</td>\n",
              "      <td>USNS Price\\nFPO AE 14661</td>\n",
              "      <td>5</td>\n",
              "      <td>2</td>\n",
              "      <td>1</td>\n",
              "      <td>False</td>\n",
              "    </tr>\n",
              "    <tr>\n",
              "      <th>9</th>\n",
              "      <td>9</td>\n",
              "      <td>ubranch@rivera-parker.info</td>\n",
              "      <td>(772)964-8162x6310</td>\n",
              "      <td>6mpx027neyz6sh04n3ue</td>\n",
              "      <td>86.16.65.228</td>\n",
              "      <td>6974 Robertson Common Apt. 902\\nPort Juanside,...</td>\n",
              "      <td>0</td>\n",
              "      <td>0</td>\n",
              "      <td>1</td>\n",
              "      <td>True</td>\n",
              "    </tr>\n",
              "    <tr>\n",
              "      <th>10</th>\n",
              "      <td>10</td>\n",
              "      <td>bowenwilliam@yahoo.com</td>\n",
              "      <td>(128)248-4091x37789</td>\n",
              "      <td>qmntgod0numz62gzbla7</td>\n",
              "      <td>231.91.253.19</td>\n",
              "      <td>27061 Wright Forks\\nCraigland, MN 59915</td>\n",
              "      <td>6</td>\n",
              "      <td>5</td>\n",
              "      <td>1</td>\n",
              "      <td>True</td>\n",
              "    </tr>\n",
              "    <tr>\n",
              "      <th>11</th>\n",
              "      <td>11</td>\n",
              "      <td>ksummers@hotmail.com</td>\n",
              "      <td>1-023-275-4692</td>\n",
              "      <td>2ngkzu1idwxintmxwmgn</td>\n",
              "      <td>184.97.57.11</td>\n",
              "      <td>46383 Matthew Track Apt. 220\\nRomanburgh, DC 9...</td>\n",
              "      <td>7</td>\n",
              "      <td>5</td>\n",
              "      <td>4</td>\n",
              "      <td>False</td>\n",
              "    </tr>\n",
              "    <tr>\n",
              "      <th>12</th>\n",
              "      <td>12</td>\n",
              "      <td>christineklein@wright-boyd.org</td>\n",
              "      <td>897-464-6425x941</td>\n",
              "      <td>j8cp1uydkuyza2eo0mir</td>\n",
              "      <td>4304:521a:e1c3:766b:21f3:ac3:4ab2:5a2</td>\n",
              "      <td>67636 Renee Islands Suite 307\\nTeresaview, ND ...</td>\n",
              "      <td>4</td>\n",
              "      <td>4</td>\n",
              "      <td>3</td>\n",
              "      <td>False</td>\n",
              "    </tr>\n",
              "    <tr>\n",
              "      <th>13</th>\n",
              "      <td>13</td>\n",
              "      <td>meganwalters@chavez.com</td>\n",
              "      <td>(522)133-8741x643</td>\n",
              "      <td>qsxqbn6qjxkni7f813qn</td>\n",
              "      <td>98.229.160.246</td>\n",
              "      <td>7541 Olson Glens\\nBallshire, IL 29415</td>\n",
              "      <td>4</td>\n",
              "      <td>2</td>\n",
              "      <td>1</td>\n",
              "      <td>False</td>\n",
              "    </tr>\n",
              "    <tr>\n",
              "      <th>14</th>\n",
              "      <td>14</td>\n",
              "      <td>caleb94@sutton.info</td>\n",
              "      <td>07452086668</td>\n",
              "      <td>lixwrlvcr4g5ht600dk9</td>\n",
              "      <td>2efe:240f:cc33:306:8e47:b8d5:b466:f12a</td>\n",
              "      <td>813 Miller Lakes\\nLake Christina, SD 29778-1298</td>\n",
              "      <td>5</td>\n",
              "      <td>5</td>\n",
              "      <td>2</td>\n",
              "      <td>False</td>\n",
              "    </tr>\n",
              "    <tr>\n",
              "      <th>15</th>\n",
              "      <td>15</td>\n",
              "      <td>gonzalesjackson@gmail.com</td>\n",
              "      <td>1-410-373-1228x129</td>\n",
              "      <td>hmkn4nmfc5q5mgify2zw</td>\n",
              "      <td>229.2.225.188</td>\n",
              "      <td>566 Courtney Stream\\nReedland, NH 84853</td>\n",
              "      <td>4</td>\n",
              "      <td>4</td>\n",
              "      <td>1</td>\n",
              "      <td>True</td>\n",
              "    </tr>\n",
              "    <tr>\n",
              "      <th>16</th>\n",
              "      <td>16</td>\n",
              "      <td>dana09@yahoo.com</td>\n",
              "      <td>515.708.2280x105</td>\n",
              "      <td>wb0uylp0rwy01x5j1jzd</td>\n",
              "      <td>166.148.66.158</td>\n",
              "      <td>812 Moss Radial Suite 844\\nNorth Patriciaburgh...</td>\n",
              "      <td>6</td>\n",
              "      <td>3</td>\n",
              "      <td>2</td>\n",
              "      <td>False</td>\n",
              "    </tr>\n",
              "    <tr>\n",
              "      <th>17</th>\n",
              "      <td>17</td>\n",
              "      <td>alec27@bell.com</td>\n",
              "      <td>895-224-8246x9667</td>\n",
              "      <td>cq5wya63n1w79o0hlnpm</td>\n",
              "      <td>128.61.46.131</td>\n",
              "      <td>6174 Nicholas Cliffs Suite 855\\nWebsterview, M...</td>\n",
              "      <td>6</td>\n",
              "      <td>4</td>\n",
              "      <td>2</td>\n",
              "      <td>False</td>\n",
              "    </tr>\n",
              "    <tr>\n",
              "      <th>18</th>\n",
              "      <td>18</td>\n",
              "      <td>juliecook@hotmail.com</td>\n",
              "      <td>1-412-734-7967x67388</td>\n",
              "      <td>sj72s0k7wxdrxu3rcmba</td>\n",
              "      <td>61ba:a72b:5401:db1a:9833:d0da:254c:2369</td>\n",
              "      <td>1750 Alicia Shoals Apt. 000\\nSouth Benjamin, N...</td>\n",
              "      <td>2</td>\n",
              "      <td>2</td>\n",
              "      <td>1</td>\n",
              "      <td>False</td>\n",
              "    </tr>\n",
              "    <tr>\n",
              "      <th>19</th>\n",
              "      <td>19</td>\n",
              "      <td>meganberry@clark.biz</td>\n",
              "      <td>1-991-846-6271x54037</td>\n",
              "      <td>2vpovzopjoqppeqfa5nw</td>\n",
              "      <td>73.182.31.59</td>\n",
              "      <td>34944 Glenn Mountain\\nSherryhaven, TN 36252</td>\n",
              "      <td>5</td>\n",
              "      <td>4</td>\n",
              "      <td>2</td>\n",
              "      <td>False</td>\n",
              "    </tr>\n",
              "  </tbody>\n",
              "</table>\n",
              "</div>\n",
              "      <button class=\"colab-df-convert\" onclick=\"convertToInteractive('df-7c213280-e9f3-4eae-bce8-7a193cec4b3b')\"\n",
              "              title=\"Convert this dataframe to an interactive table.\"\n",
              "              style=\"display:none;\">\n",
              "        \n",
              "  <svg xmlns=\"http://www.w3.org/2000/svg\" height=\"24px\"viewBox=\"0 0 24 24\"\n",
              "       width=\"24px\">\n",
              "    <path d=\"M0 0h24v24H0V0z\" fill=\"none\"/>\n",
              "    <path d=\"M18.56 5.44l.94 2.06.94-2.06 2.06-.94-2.06-.94-.94-2.06-.94 2.06-2.06.94zm-11 1L8.5 8.5l.94-2.06 2.06-.94-2.06-.94L8.5 2.5l-.94 2.06-2.06.94zm10 10l.94 2.06.94-2.06 2.06-.94-2.06-.94-.94-2.06-.94 2.06-2.06.94z\"/><path d=\"M17.41 7.96l-1.37-1.37c-.4-.4-.92-.59-1.43-.59-.52 0-1.04.2-1.43.59L10.3 9.45l-7.72 7.72c-.78.78-.78 2.05 0 2.83L4 21.41c.39.39.9.59 1.41.59.51 0 1.02-.2 1.41-.59l7.78-7.78 2.81-2.81c.8-.78.8-2.07 0-2.86zM5.41 20L4 18.59l7.72-7.72 1.47 1.35L5.41 20z\"/>\n",
              "  </svg>\n",
              "      </button>\n",
              "      \n",
              "  <style>\n",
              "    .colab-df-container {\n",
              "      display:flex;\n",
              "      flex-wrap:wrap;\n",
              "      gap: 12px;\n",
              "    }\n",
              "\n",
              "    .colab-df-convert {\n",
              "      background-color: #E8F0FE;\n",
              "      border: none;\n",
              "      border-radius: 50%;\n",
              "      cursor: pointer;\n",
              "      display: none;\n",
              "      fill: #1967D2;\n",
              "      height: 32px;\n",
              "      padding: 0 0 0 0;\n",
              "      width: 32px;\n",
              "    }\n",
              "\n",
              "    .colab-df-convert:hover {\n",
              "      background-color: #E2EBFA;\n",
              "      box-shadow: 0px 1px 2px rgba(60, 64, 67, 0.3), 0px 1px 3px 1px rgba(60, 64, 67, 0.15);\n",
              "      fill: #174EA6;\n",
              "    }\n",
              "\n",
              "    [theme=dark] .colab-df-convert {\n",
              "      background-color: #3B4455;\n",
              "      fill: #D2E3FC;\n",
              "    }\n",
              "\n",
              "    [theme=dark] .colab-df-convert:hover {\n",
              "      background-color: #434B5C;\n",
              "      box-shadow: 0px 1px 3px 1px rgba(0, 0, 0, 0.15);\n",
              "      filter: drop-shadow(0px 1px 2px rgba(0, 0, 0, 0.3));\n",
              "      fill: #FFFFFF;\n",
              "    }\n",
              "  </style>\n",
              "\n",
              "      <script>\n",
              "        const buttonEl =\n",
              "          document.querySelector('#df-7c213280-e9f3-4eae-bce8-7a193cec4b3b button.colab-df-convert');\n",
              "        buttonEl.style.display =\n",
              "          google.colab.kernel.accessAllowed ? 'block' : 'none';\n",
              "\n",
              "        async function convertToInteractive(key) {\n",
              "          const element = document.querySelector('#df-7c213280-e9f3-4eae-bce8-7a193cec4b3b');\n",
              "          const dataTable =\n",
              "            await google.colab.kernel.invokeFunction('convertToInteractive',\n",
              "                                                     [key], {});\n",
              "          if (!dataTable) return;\n",
              "\n",
              "          const docLinkHtml = 'Like what you see? Visit the ' +\n",
              "            '<a target=\"_blank\" href=https://colab.research.google.com/notebooks/data_table.ipynb>data table notebook</a>'\n",
              "            + ' to learn more about interactive tables.';\n",
              "          element.innerHTML = '';\n",
              "          dataTable['output_type'] = 'display_data';\n",
              "          await google.colab.output.renderOutput(dataTable, element);\n",
              "          const docLink = document.createElement('div');\n",
              "          docLink.innerHTML = docLinkHtml;\n",
              "          element.appendChild(docLink);\n",
              "        }\n",
              "      </script>\n",
              "    </div>\n",
              "  </div>\n",
              "  "
            ],
            "text/plain": [
              "    Unnamed: 0                   customerEmail  ... No_Payments  Fraud\n",
              "0            0          josephhoward@yahoo.com  ...           1  False\n",
              "1            1          evansjeffery@yahoo.com  ...           7   True\n",
              "2            2       andersonwilliam@yahoo.com  ...           2  False\n",
              "3            3           rubenjuarez@yahoo.com  ...           1  False\n",
              "4            4                uchen@malone.com  ...           6   True\n",
              "5            5        robinsoncynthia@dunn.com  ...           2   True\n",
              "6            6    samuel15@saunders-rhodes.com  ...           2   True\n",
              "7            7            johnlowery@gmail.com  ...           2   True\n",
              "8            8       jameslandry@rodriguez.com  ...           1  False\n",
              "9            9      ubranch@rivera-parker.info  ...           1   True\n",
              "10          10          bowenwilliam@yahoo.com  ...           1   True\n",
              "11          11            ksummers@hotmail.com  ...           4  False\n",
              "12          12  christineklein@wright-boyd.org  ...           3  False\n",
              "13          13         meganwalters@chavez.com  ...           1  False\n",
              "14          14             caleb94@sutton.info  ...           2  False\n",
              "15          15       gonzalesjackson@gmail.com  ...           1   True\n",
              "16          16                dana09@yahoo.com  ...           2  False\n",
              "17          17                 alec27@bell.com  ...           2  False\n",
              "18          18           juliecook@hotmail.com  ...           1  False\n",
              "19          19            meganberry@clark.biz  ...           2  False\n",
              "\n",
              "[20 rows x 10 columns]"
            ]
          },
          "metadata": {},
          "execution_count": 2
        }
      ]
    },
    {
      "cell_type": "code",
      "source": [
        "df1.info()"
      ],
      "metadata": {
        "id": "UXct_coiCvBk",
        "outputId": "1f8f3670-9405-480b-abe9-d17309676a16",
        "colab": {
          "base_uri": "https://localhost:8080/"
        }
      },
      "execution_count": null,
      "outputs": [
        {
          "output_type": "stream",
          "name": "stdout",
          "text": [
            "<class 'pandas.core.frame.DataFrame'>\n",
            "RangeIndex: 168 entries, 0 to 167\n",
            "Data columns (total 10 columns):\n",
            " #   Column                  Non-Null Count  Dtype \n",
            "---  ------                  --------------  ----- \n",
            " 0   Unnamed: 0              168 non-null    int64 \n",
            " 1   customerEmail           168 non-null    object\n",
            " 2   customerPhone           168 non-null    object\n",
            " 3   customerDevice          168 non-null    object\n",
            " 4   customerIPAddress       168 non-null    object\n",
            " 5   customerBillingAddress  168 non-null    object\n",
            " 6   No_Transactions         168 non-null    int64 \n",
            " 7   No_Orders               168 non-null    int64 \n",
            " 8   No_Payments             168 non-null    int64 \n",
            " 9   Fraud                   168 non-null    bool  \n",
            "dtypes: bool(1), int64(4), object(5)\n",
            "memory usage: 12.1+ KB\n"
          ]
        }
      ]
    },
    {
      "cell_type": "code",
      "source": [
        "# check for missing values\n",
        "df1.isnull().sum()"
      ],
      "metadata": {
        "colab": {
          "base_uri": "https://localhost:8080/"
        },
        "id": "PuETfdVF8sDn",
        "outputId": "48124c76-654f-4e4f-c8cb-c9f0314b453a"
      },
      "execution_count": null,
      "outputs": [
        {
          "output_type": "execute_result",
          "data": {
            "text/plain": [
              "Unnamed: 0                0\n",
              "customerEmail             0\n",
              "customerPhone             0\n",
              "customerDevice            0\n",
              "customerIPAddress         0\n",
              "customerBillingAddress    0\n",
              "No_Transactions           0\n",
              "No_Orders                 0\n",
              "No_Payments               0\n",
              "Fraud                     0\n",
              "dtype: int64"
            ]
          },
          "metadata": {},
          "execution_count": 4
        }
      ]
    },
    {
      "cell_type": "code",
      "source": [
        "df2= pd.read_csv('transaction_data.csv')\n",
        "df2.head(20)"
      ],
      "metadata": {
        "colab": {
          "base_uri": "https://localhost:8080/",
          "height": 757
        },
        "id": "ZdM-lfAV8g_K",
        "outputId": "222f4c88-5b2e-4bd3-a4f1-769d86bc1989"
      },
      "execution_count": null,
      "outputs": [
        {
          "output_type": "execute_result",
          "data": {
            "text/html": [
              "\n",
              "  <div id=\"df-daa0da67-fe38-460f-b355-c5a537a01c60\">\n",
              "    <div class=\"colab-df-container\">\n",
              "      <div>\n",
              "<style scoped>\n",
              "    .dataframe tbody tr th:only-of-type {\n",
              "        vertical-align: middle;\n",
              "    }\n",
              "\n",
              "    .dataframe tbody tr th {\n",
              "        vertical-align: top;\n",
              "    }\n",
              "\n",
              "    .dataframe thead th {\n",
              "        text-align: right;\n",
              "    }\n",
              "</style>\n",
              "<table border=\"1\" class=\"dataframe\">\n",
              "  <thead>\n",
              "    <tr style=\"text-align: right;\">\n",
              "      <th></th>\n",
              "      <th>Unnamed: 0</th>\n",
              "      <th>customerEmail</th>\n",
              "      <th>transactionId</th>\n",
              "      <th>orderId</th>\n",
              "      <th>paymentMethodId</th>\n",
              "      <th>paymentMethodRegistrationFailure</th>\n",
              "      <th>paymentMethodType</th>\n",
              "      <th>paymentMethodProvider</th>\n",
              "      <th>transactionAmount</th>\n",
              "      <th>transactionFailed</th>\n",
              "      <th>orderState</th>\n",
              "    </tr>\n",
              "  </thead>\n",
              "  <tbody>\n",
              "    <tr>\n",
              "      <th>0</th>\n",
              "      <td>0</td>\n",
              "      <td>josephhoward@yahoo.com</td>\n",
              "      <td>a9lcj51r</td>\n",
              "      <td>vjbdvd</td>\n",
              "      <td>wt07xm68b</td>\n",
              "      <td>1</td>\n",
              "      <td>card</td>\n",
              "      <td>JCB 16 digit</td>\n",
              "      <td>18</td>\n",
              "      <td>0</td>\n",
              "      <td>pending</td>\n",
              "    </tr>\n",
              "    <tr>\n",
              "      <th>1</th>\n",
              "      <td>1</td>\n",
              "      <td>josephhoward@yahoo.com</td>\n",
              "      <td>y4wcv03i</td>\n",
              "      <td>yp6x27</td>\n",
              "      <td>wt07xm68b</td>\n",
              "      <td>1</td>\n",
              "      <td>card</td>\n",
              "      <td>JCB 16 digit</td>\n",
              "      <td>26</td>\n",
              "      <td>0</td>\n",
              "      <td>fulfilled</td>\n",
              "    </tr>\n",
              "    <tr>\n",
              "      <th>2</th>\n",
              "      <td>2</td>\n",
              "      <td>evansjeffery@yahoo.com</td>\n",
              "      <td>5mi94sfw</td>\n",
              "      <td>nlghpa</td>\n",
              "      <td>41ug157xz</td>\n",
              "      <td>0</td>\n",
              "      <td>bitcoin</td>\n",
              "      <td>American Express</td>\n",
              "      <td>45</td>\n",
              "      <td>0</td>\n",
              "      <td>fulfilled</td>\n",
              "    </tr>\n",
              "    <tr>\n",
              "      <th>3</th>\n",
              "      <td>3</td>\n",
              "      <td>evansjeffery@yahoo.com</td>\n",
              "      <td>br8ba1nu</td>\n",
              "      <td>uw0eeb</td>\n",
              "      <td>41ug157xz</td>\n",
              "      <td>0</td>\n",
              "      <td>bitcoin</td>\n",
              "      <td>American Express</td>\n",
              "      <td>23</td>\n",
              "      <td>0</td>\n",
              "      <td>fulfilled</td>\n",
              "    </tr>\n",
              "    <tr>\n",
              "      <th>4</th>\n",
              "      <td>4</td>\n",
              "      <td>evansjeffery@yahoo.com</td>\n",
              "      <td>a33145ss</td>\n",
              "      <td>bn44oh</td>\n",
              "      <td>y3xp697jx</td>\n",
              "      <td>1</td>\n",
              "      <td>bitcoin</td>\n",
              "      <td>VISA 16 digit</td>\n",
              "      <td>43</td>\n",
              "      <td>1</td>\n",
              "      <td>fulfilled</td>\n",
              "    </tr>\n",
              "    <tr>\n",
              "      <th>5</th>\n",
              "      <td>5</td>\n",
              "      <td>andersonwilliam@yahoo.com</td>\n",
              "      <td>q3lyvbza</td>\n",
              "      <td>yk34y2</td>\n",
              "      <td>8pneoi03z</td>\n",
              "      <td>0</td>\n",
              "      <td>card</td>\n",
              "      <td>JCB 16 digit</td>\n",
              "      <td>33</td>\n",
              "      <td>0</td>\n",
              "      <td>failed</td>\n",
              "    </tr>\n",
              "    <tr>\n",
              "      <th>6</th>\n",
              "      <td>6</td>\n",
              "      <td>andersonwilliam@yahoo.com</td>\n",
              "      <td>3alf9irw</td>\n",
              "      <td>28v6b0</td>\n",
              "      <td>8pneoi03z</td>\n",
              "      <td>0</td>\n",
              "      <td>card</td>\n",
              "      <td>JCB 16 digit</td>\n",
              "      <td>24</td>\n",
              "      <td>1</td>\n",
              "      <td>fulfilled</td>\n",
              "    </tr>\n",
              "    <tr>\n",
              "      <th>7</th>\n",
              "      <td>7</td>\n",
              "      <td>andersonwilliam@yahoo.com</td>\n",
              "      <td>69w9wymx</td>\n",
              "      <td>28v6b0</td>\n",
              "      <td>8pneoi03z</td>\n",
              "      <td>0</td>\n",
              "      <td>card</td>\n",
              "      <td>JCB 16 digit</td>\n",
              "      <td>24</td>\n",
              "      <td>0</td>\n",
              "      <td>fulfilled</td>\n",
              "    </tr>\n",
              "    <tr>\n",
              "      <th>8</th>\n",
              "      <td>8</td>\n",
              "      <td>andersonwilliam@yahoo.com</td>\n",
              "      <td>pegqc4ud</td>\n",
              "      <td>itnk8y</td>\n",
              "      <td>dluy3jka0</td>\n",
              "      <td>0</td>\n",
              "      <td>card</td>\n",
              "      <td>Discover</td>\n",
              "      <td>25</td>\n",
              "      <td>1</td>\n",
              "      <td>fulfilled</td>\n",
              "    </tr>\n",
              "    <tr>\n",
              "      <th>9</th>\n",
              "      <td>9</td>\n",
              "      <td>andersonwilliam@yahoo.com</td>\n",
              "      <td>uo3slwh7</td>\n",
              "      <td>itnk8y</td>\n",
              "      <td>8pneoi03z</td>\n",
              "      <td>0</td>\n",
              "      <td>card</td>\n",
              "      <td>JCB 16 digit</td>\n",
              "      <td>25</td>\n",
              "      <td>0</td>\n",
              "      <td>fulfilled</td>\n",
              "    </tr>\n",
              "    <tr>\n",
              "      <th>10</th>\n",
              "      <td>10</td>\n",
              "      <td>rubenjuarez@yahoo.com</td>\n",
              "      <td>vx4cjc27</td>\n",
              "      <td>fbz9ep</td>\n",
              "      <td>pdxjdwui4</td>\n",
              "      <td>0</td>\n",
              "      <td>card</td>\n",
              "      <td>Voyager</td>\n",
              "      <td>34</td>\n",
              "      <td>0</td>\n",
              "      <td>fulfilled</td>\n",
              "    </tr>\n",
              "    <tr>\n",
              "      <th>11</th>\n",
              "      <td>11</td>\n",
              "      <td>rubenjuarez@yahoo.com</td>\n",
              "      <td>yiay9b0n</td>\n",
              "      <td>7odnn6</td>\n",
              "      <td>pdxjdwui4</td>\n",
              "      <td>0</td>\n",
              "      <td>card</td>\n",
              "      <td>Voyager</td>\n",
              "      <td>26</td>\n",
              "      <td>0</td>\n",
              "      <td>fulfilled</td>\n",
              "    </tr>\n",
              "    <tr>\n",
              "      <th>12</th>\n",
              "      <td>12</td>\n",
              "      <td>rubenjuarez@yahoo.com</td>\n",
              "      <td>sn3v0ql2</td>\n",
              "      <td>audx7o</td>\n",
              "      <td>pdxjdwui4</td>\n",
              "      <td>0</td>\n",
              "      <td>card</td>\n",
              "      <td>Voyager</td>\n",
              "      <td>25</td>\n",
              "      <td>0</td>\n",
              "      <td>fulfilled</td>\n",
              "    </tr>\n",
              "    <tr>\n",
              "      <th>13</th>\n",
              "      <td>13</td>\n",
              "      <td>uchen@malone.com</td>\n",
              "      <td>q8j3dgni</td>\n",
              "      <td>56h7iw</td>\n",
              "      <td>olr4zf09x</td>\n",
              "      <td>0</td>\n",
              "      <td>card</td>\n",
              "      <td>VISA 13 digit</td>\n",
              "      <td>71</td>\n",
              "      <td>0</td>\n",
              "      <td>fulfilled</td>\n",
              "    </tr>\n",
              "    <tr>\n",
              "      <th>14</th>\n",
              "      <td>14</td>\n",
              "      <td>uchen@malone.com</td>\n",
              "      <td>xjulqy8x</td>\n",
              "      <td>kowj1v</td>\n",
              "      <td>gehl28i8u</td>\n",
              "      <td>0</td>\n",
              "      <td>card</td>\n",
              "      <td>JCB 16 digit</td>\n",
              "      <td>66</td>\n",
              "      <td>1</td>\n",
              "      <td>fulfilled</td>\n",
              "    </tr>\n",
              "    <tr>\n",
              "      <th>15</th>\n",
              "      <td>15</td>\n",
              "      <td>uchen@malone.com</td>\n",
              "      <td>rvm65vr1</td>\n",
              "      <td>wlznfu</td>\n",
              "      <td>gehl28i8u</td>\n",
              "      <td>0</td>\n",
              "      <td>card</td>\n",
              "      <td>JCB 16 digit</td>\n",
              "      <td>69</td>\n",
              "      <td>0</td>\n",
              "      <td>failed</td>\n",
              "    </tr>\n",
              "    <tr>\n",
              "      <th>16</th>\n",
              "      <td>16</td>\n",
              "      <td>uchen@malone.com</td>\n",
              "      <td>kckrvagp</td>\n",
              "      <td>hm3rth</td>\n",
              "      <td>76bw9eqg2</td>\n",
              "      <td>0</td>\n",
              "      <td>apple pay</td>\n",
              "      <td>VISA 16 digit</td>\n",
              "      <td>46</td>\n",
              "      <td>1</td>\n",
              "      <td>fulfilled</td>\n",
              "    </tr>\n",
              "    <tr>\n",
              "      <th>17</th>\n",
              "      <td>17</td>\n",
              "      <td>uchen@malone.com</td>\n",
              "      <td>2slep8t9</td>\n",
              "      <td>vvq05w</td>\n",
              "      <td>s6escw45g</td>\n",
              "      <td>0</td>\n",
              "      <td>card</td>\n",
              "      <td>JCB 16 digit</td>\n",
              "      <td>68</td>\n",
              "      <td>0</td>\n",
              "      <td>fulfilled</td>\n",
              "    </tr>\n",
              "    <tr>\n",
              "      <th>18</th>\n",
              "      <td>18</td>\n",
              "      <td>uchen@malone.com</td>\n",
              "      <td>yd80pfko</td>\n",
              "      <td>xwo0al</td>\n",
              "      <td>76bw9eqg2</td>\n",
              "      <td>0</td>\n",
              "      <td>apple pay</td>\n",
              "      <td>VISA 16 digit</td>\n",
              "      <td>59</td>\n",
              "      <td>0</td>\n",
              "      <td>fulfilled</td>\n",
              "    </tr>\n",
              "    <tr>\n",
              "      <th>19</th>\n",
              "      <td>19</td>\n",
              "      <td>uchen@malone.com</td>\n",
              "      <td>ckk3ux58</td>\n",
              "      <td>2528x8</td>\n",
              "      <td>w1i1zq3rg</td>\n",
              "      <td>0</td>\n",
              "      <td>apple pay</td>\n",
              "      <td>American Express</td>\n",
              "      <td>32</td>\n",
              "      <td>0</td>\n",
              "      <td>fulfilled</td>\n",
              "    </tr>\n",
              "  </tbody>\n",
              "</table>\n",
              "</div>\n",
              "      <button class=\"colab-df-convert\" onclick=\"convertToInteractive('df-daa0da67-fe38-460f-b355-c5a537a01c60')\"\n",
              "              title=\"Convert this dataframe to an interactive table.\"\n",
              "              style=\"display:none;\">\n",
              "        \n",
              "  <svg xmlns=\"http://www.w3.org/2000/svg\" height=\"24px\"viewBox=\"0 0 24 24\"\n",
              "       width=\"24px\">\n",
              "    <path d=\"M0 0h24v24H0V0z\" fill=\"none\"/>\n",
              "    <path d=\"M18.56 5.44l.94 2.06.94-2.06 2.06-.94-2.06-.94-.94-2.06-.94 2.06-2.06.94zm-11 1L8.5 8.5l.94-2.06 2.06-.94-2.06-.94L8.5 2.5l-.94 2.06-2.06.94zm10 10l.94 2.06.94-2.06 2.06-.94-2.06-.94-.94-2.06-.94 2.06-2.06.94z\"/><path d=\"M17.41 7.96l-1.37-1.37c-.4-.4-.92-.59-1.43-.59-.52 0-1.04.2-1.43.59L10.3 9.45l-7.72 7.72c-.78.78-.78 2.05 0 2.83L4 21.41c.39.39.9.59 1.41.59.51 0 1.02-.2 1.41-.59l7.78-7.78 2.81-2.81c.8-.78.8-2.07 0-2.86zM5.41 20L4 18.59l7.72-7.72 1.47 1.35L5.41 20z\"/>\n",
              "  </svg>\n",
              "      </button>\n",
              "      \n",
              "  <style>\n",
              "    .colab-df-container {\n",
              "      display:flex;\n",
              "      flex-wrap:wrap;\n",
              "      gap: 12px;\n",
              "    }\n",
              "\n",
              "    .colab-df-convert {\n",
              "      background-color: #E8F0FE;\n",
              "      border: none;\n",
              "      border-radius: 50%;\n",
              "      cursor: pointer;\n",
              "      display: none;\n",
              "      fill: #1967D2;\n",
              "      height: 32px;\n",
              "      padding: 0 0 0 0;\n",
              "      width: 32px;\n",
              "    }\n",
              "\n",
              "    .colab-df-convert:hover {\n",
              "      background-color: #E2EBFA;\n",
              "      box-shadow: 0px 1px 2px rgba(60, 64, 67, 0.3), 0px 1px 3px 1px rgba(60, 64, 67, 0.15);\n",
              "      fill: #174EA6;\n",
              "    }\n",
              "\n",
              "    [theme=dark] .colab-df-convert {\n",
              "      background-color: #3B4455;\n",
              "      fill: #D2E3FC;\n",
              "    }\n",
              "\n",
              "    [theme=dark] .colab-df-convert:hover {\n",
              "      background-color: #434B5C;\n",
              "      box-shadow: 0px 1px 3px 1px rgba(0, 0, 0, 0.15);\n",
              "      filter: drop-shadow(0px 1px 2px rgba(0, 0, 0, 0.3));\n",
              "      fill: #FFFFFF;\n",
              "    }\n",
              "  </style>\n",
              "\n",
              "      <script>\n",
              "        const buttonEl =\n",
              "          document.querySelector('#df-daa0da67-fe38-460f-b355-c5a537a01c60 button.colab-df-convert');\n",
              "        buttonEl.style.display =\n",
              "          google.colab.kernel.accessAllowed ? 'block' : 'none';\n",
              "\n",
              "        async function convertToInteractive(key) {\n",
              "          const element = document.querySelector('#df-daa0da67-fe38-460f-b355-c5a537a01c60');\n",
              "          const dataTable =\n",
              "            await google.colab.kernel.invokeFunction('convertToInteractive',\n",
              "                                                     [key], {});\n",
              "          if (!dataTable) return;\n",
              "\n",
              "          const docLinkHtml = 'Like what you see? Visit the ' +\n",
              "            '<a target=\"_blank\" href=https://colab.research.google.com/notebooks/data_table.ipynb>data table notebook</a>'\n",
              "            + ' to learn more about interactive tables.';\n",
              "          element.innerHTML = '';\n",
              "          dataTable['output_type'] = 'display_data';\n",
              "          await google.colab.output.renderOutput(dataTable, element);\n",
              "          const docLink = document.createElement('div');\n",
              "          docLink.innerHTML = docLinkHtml;\n",
              "          element.appendChild(docLink);\n",
              "        }\n",
              "      </script>\n",
              "    </div>\n",
              "  </div>\n",
              "  "
            ],
            "text/plain": [
              "    Unnamed: 0              customerEmail  ... transactionFailed orderState\n",
              "0            0     josephhoward@yahoo.com  ...                 0    pending\n",
              "1            1     josephhoward@yahoo.com  ...                 0  fulfilled\n",
              "2            2     evansjeffery@yahoo.com  ...                 0  fulfilled\n",
              "3            3     evansjeffery@yahoo.com  ...                 0  fulfilled\n",
              "4            4     evansjeffery@yahoo.com  ...                 1  fulfilled\n",
              "5            5  andersonwilliam@yahoo.com  ...                 0     failed\n",
              "6            6  andersonwilliam@yahoo.com  ...                 1  fulfilled\n",
              "7            7  andersonwilliam@yahoo.com  ...                 0  fulfilled\n",
              "8            8  andersonwilliam@yahoo.com  ...                 1  fulfilled\n",
              "9            9  andersonwilliam@yahoo.com  ...                 0  fulfilled\n",
              "10          10      rubenjuarez@yahoo.com  ...                 0  fulfilled\n",
              "11          11      rubenjuarez@yahoo.com  ...                 0  fulfilled\n",
              "12          12      rubenjuarez@yahoo.com  ...                 0  fulfilled\n",
              "13          13           uchen@malone.com  ...                 0  fulfilled\n",
              "14          14           uchen@malone.com  ...                 1  fulfilled\n",
              "15          15           uchen@malone.com  ...                 0     failed\n",
              "16          16           uchen@malone.com  ...                 1  fulfilled\n",
              "17          17           uchen@malone.com  ...                 0  fulfilled\n",
              "18          18           uchen@malone.com  ...                 0  fulfilled\n",
              "19          19           uchen@malone.com  ...                 0  fulfilled\n",
              "\n",
              "[20 rows x 11 columns]"
            ]
          },
          "metadata": {},
          "execution_count": 5
        }
      ]
    },
    {
      "cell_type": "code",
      "source": [
        "# check for missing values\n",
        "df2.isnull().sum()"
      ],
      "metadata": {
        "id": "QKf2H4Gp8t-4",
        "outputId": "85b43ee0-1096-4fad-9be2-c309cd9090db",
        "colab": {
          "base_uri": "https://localhost:8080/"
        }
      },
      "execution_count": null,
      "outputs": [
        {
          "output_type": "execute_result",
          "data": {
            "text/plain": [
              "Unnamed: 0                          0\n",
              "customerEmail                       0\n",
              "transactionId                       0\n",
              "orderId                             0\n",
              "paymentMethodId                     0\n",
              "paymentMethodRegistrationFailure    0\n",
              "paymentMethodType                   0\n",
              "paymentMethodProvider               0\n",
              "transactionAmount                   0\n",
              "transactionFailed                   0\n",
              "orderState                          0\n",
              "dtype: int64"
            ]
          },
          "metadata": {},
          "execution_count": 6
        }
      ]
    },
    {
      "cell_type": "markdown",
      "source": [
        "###2.2 MERGE CUSTOMER DATA & TRANSACTION DATA"
      ],
      "metadata": {
        "id": "mt6uq85ugIU0"
      }
    },
    {
      "cell_type": "code",
      "source": [
        "df = pd.merge(df1,df2, on = 'customerEmail', how='inner')"
      ],
      "metadata": {
        "id": "LG2U2Wa_bNi5"
      },
      "execution_count": null,
      "outputs": []
    },
    {
      "cell_type": "code",
      "source": [
        "df"
      ],
      "metadata": {
        "colab": {
          "base_uri": "https://localhost:8080/",
          "height": 800
        },
        "id": "4bMYc-mkbWoe",
        "outputId": "df15fd82-f213-473a-bb11-19b636231075"
      },
      "execution_count": null,
      "outputs": [
        {
          "output_type": "execute_result",
          "data": {
            "text/html": [
              "\n",
              "  <div id=\"df-02b37f69-15fc-436d-bddb-42dcef79d81e\">\n",
              "    <div class=\"colab-df-container\">\n",
              "      <div>\n",
              "<style scoped>\n",
              "    .dataframe tbody tr th:only-of-type {\n",
              "        vertical-align: middle;\n",
              "    }\n",
              "\n",
              "    .dataframe tbody tr th {\n",
              "        vertical-align: top;\n",
              "    }\n",
              "\n",
              "    .dataframe thead th {\n",
              "        text-align: right;\n",
              "    }\n",
              "</style>\n",
              "<table border=\"1\" class=\"dataframe\">\n",
              "  <thead>\n",
              "    <tr style=\"text-align: right;\">\n",
              "      <th></th>\n",
              "      <th>Unnamed: 0_x</th>\n",
              "      <th>customerEmail</th>\n",
              "      <th>customerPhone</th>\n",
              "      <th>customerDevice</th>\n",
              "      <th>customerIPAddress</th>\n",
              "      <th>customerBillingAddress</th>\n",
              "      <th>No_Transactions</th>\n",
              "      <th>No_Orders</th>\n",
              "      <th>No_Payments</th>\n",
              "      <th>Fraud</th>\n",
              "      <th>Unnamed: 0_y</th>\n",
              "      <th>transactionId</th>\n",
              "      <th>orderId</th>\n",
              "      <th>paymentMethodId</th>\n",
              "      <th>paymentMethodRegistrationFailure</th>\n",
              "      <th>paymentMethodType</th>\n",
              "      <th>paymentMethodProvider</th>\n",
              "      <th>transactionAmount</th>\n",
              "      <th>transactionFailed</th>\n",
              "      <th>orderState</th>\n",
              "    </tr>\n",
              "  </thead>\n",
              "  <tbody>\n",
              "    <tr>\n",
              "      <th>0</th>\n",
              "      <td>0</td>\n",
              "      <td>josephhoward@yahoo.com</td>\n",
              "      <td>400-108-5415</td>\n",
              "      <td>yyeiaxpltf82440jnb3v</td>\n",
              "      <td>8.129.104.40</td>\n",
              "      <td>5493 Jones Islands\\nBrownside, CA 51896</td>\n",
              "      <td>2</td>\n",
              "      <td>2</td>\n",
              "      <td>1</td>\n",
              "      <td>False</td>\n",
              "      <td>0</td>\n",
              "      <td>a9lcj51r</td>\n",
              "      <td>vjbdvd</td>\n",
              "      <td>wt07xm68b</td>\n",
              "      <td>1</td>\n",
              "      <td>card</td>\n",
              "      <td>JCB 16 digit</td>\n",
              "      <td>18</td>\n",
              "      <td>0</td>\n",
              "      <td>pending</td>\n",
              "    </tr>\n",
              "    <tr>\n",
              "      <th>1</th>\n",
              "      <td>0</td>\n",
              "      <td>josephhoward@yahoo.com</td>\n",
              "      <td>400-108-5415</td>\n",
              "      <td>yyeiaxpltf82440jnb3v</td>\n",
              "      <td>8.129.104.40</td>\n",
              "      <td>5493 Jones Islands\\nBrownside, CA 51896</td>\n",
              "      <td>2</td>\n",
              "      <td>2</td>\n",
              "      <td>1</td>\n",
              "      <td>False</td>\n",
              "      <td>1</td>\n",
              "      <td>y4wcv03i</td>\n",
              "      <td>yp6x27</td>\n",
              "      <td>wt07xm68b</td>\n",
              "      <td>1</td>\n",
              "      <td>card</td>\n",
              "      <td>JCB 16 digit</td>\n",
              "      <td>26</td>\n",
              "      <td>0</td>\n",
              "      <td>fulfilled</td>\n",
              "    </tr>\n",
              "    <tr>\n",
              "      <th>2</th>\n",
              "      <td>1</td>\n",
              "      <td>evansjeffery@yahoo.com</td>\n",
              "      <td>1-788-091-7546</td>\n",
              "      <td>r0jpm7xaeqqa3kr6mzum</td>\n",
              "      <td>219.173.211.202</td>\n",
              "      <td>356 Elizabeth Inlet Suite 120\\nPort Joshuabury...</td>\n",
              "      <td>3</td>\n",
              "      <td>3</td>\n",
              "      <td>7</td>\n",
              "      <td>True</td>\n",
              "      <td>2</td>\n",
              "      <td>5mi94sfw</td>\n",
              "      <td>nlghpa</td>\n",
              "      <td>41ug157xz</td>\n",
              "      <td>0</td>\n",
              "      <td>bitcoin</td>\n",
              "      <td>American Express</td>\n",
              "      <td>45</td>\n",
              "      <td>0</td>\n",
              "      <td>fulfilled</td>\n",
              "    </tr>\n",
              "    <tr>\n",
              "      <th>3</th>\n",
              "      <td>1</td>\n",
              "      <td>evansjeffery@yahoo.com</td>\n",
              "      <td>1-788-091-7546</td>\n",
              "      <td>r0jpm7xaeqqa3kr6mzum</td>\n",
              "      <td>219.173.211.202</td>\n",
              "      <td>356 Elizabeth Inlet Suite 120\\nPort Joshuabury...</td>\n",
              "      <td>3</td>\n",
              "      <td>3</td>\n",
              "      <td>7</td>\n",
              "      <td>True</td>\n",
              "      <td>3</td>\n",
              "      <td>br8ba1nu</td>\n",
              "      <td>uw0eeb</td>\n",
              "      <td>41ug157xz</td>\n",
              "      <td>0</td>\n",
              "      <td>bitcoin</td>\n",
              "      <td>American Express</td>\n",
              "      <td>23</td>\n",
              "      <td>0</td>\n",
              "      <td>fulfilled</td>\n",
              "    </tr>\n",
              "    <tr>\n",
              "      <th>4</th>\n",
              "      <td>1</td>\n",
              "      <td>evansjeffery@yahoo.com</td>\n",
              "      <td>1-788-091-7546</td>\n",
              "      <td>r0jpm7xaeqqa3kr6mzum</td>\n",
              "      <td>219.173.211.202</td>\n",
              "      <td>356 Elizabeth Inlet Suite 120\\nPort Joshuabury...</td>\n",
              "      <td>3</td>\n",
              "      <td>3</td>\n",
              "      <td>7</td>\n",
              "      <td>True</td>\n",
              "      <td>4</td>\n",
              "      <td>a33145ss</td>\n",
              "      <td>bn44oh</td>\n",
              "      <td>y3xp697jx</td>\n",
              "      <td>1</td>\n",
              "      <td>bitcoin</td>\n",
              "      <td>VISA 16 digit</td>\n",
              "      <td>43</td>\n",
              "      <td>1</td>\n",
              "      <td>fulfilled</td>\n",
              "    </tr>\n",
              "    <tr>\n",
              "      <th>...</th>\n",
              "      <td>...</td>\n",
              "      <td>...</td>\n",
              "      <td>...</td>\n",
              "      <td>...</td>\n",
              "      <td>...</td>\n",
              "      <td>...</td>\n",
              "      <td>...</td>\n",
              "      <td>...</td>\n",
              "      <td>...</td>\n",
              "      <td>...</td>\n",
              "      <td>...</td>\n",
              "      <td>...</td>\n",
              "      <td>...</td>\n",
              "      <td>...</td>\n",
              "      <td>...</td>\n",
              "      <td>...</td>\n",
              "      <td>...</td>\n",
              "      <td>...</td>\n",
              "      <td>...</td>\n",
              "      <td>...</td>\n",
              "    </tr>\n",
              "    <tr>\n",
              "      <th>814</th>\n",
              "      <td>167</td>\n",
              "      <td>dawn05@tucker-brown.com</td>\n",
              "      <td>(089)703-7360x8848</td>\n",
              "      <td>lu4fgcug8dr0dwbcuui1</td>\n",
              "      <td>132.132.95.33</td>\n",
              "      <td>130 Kimberly Junctions\\nEricmouth, KS 59756-2919</td>\n",
              "      <td>7</td>\n",
              "      <td>5</td>\n",
              "      <td>4</td>\n",
              "      <td>False</td>\n",
              "      <td>618</td>\n",
              "      <td>7yilsi1o</td>\n",
              "      <td>1bubxa</td>\n",
              "      <td>7yen1m1q8</td>\n",
              "      <td>0</td>\n",
              "      <td>card</td>\n",
              "      <td>VISA 13 digit</td>\n",
              "      <td>25</td>\n",
              "      <td>1</td>\n",
              "      <td>fulfilled</td>\n",
              "    </tr>\n",
              "    <tr>\n",
              "      <th>815</th>\n",
              "      <td>167</td>\n",
              "      <td>dawn05@tucker-brown.com</td>\n",
              "      <td>(089)703-7360x8848</td>\n",
              "      <td>lu4fgcug8dr0dwbcuui1</td>\n",
              "      <td>132.132.95.33</td>\n",
              "      <td>130 Kimberly Junctions\\nEricmouth, KS 59756-2919</td>\n",
              "      <td>7</td>\n",
              "      <td>5</td>\n",
              "      <td>4</td>\n",
              "      <td>False</td>\n",
              "      <td>619</td>\n",
              "      <td>c82k5bcv</td>\n",
              "      <td>1bubxa</td>\n",
              "      <td>7yen1m1q8</td>\n",
              "      <td>0</td>\n",
              "      <td>card</td>\n",
              "      <td>VISA 13 digit</td>\n",
              "      <td>25</td>\n",
              "      <td>0</td>\n",
              "      <td>fulfilled</td>\n",
              "    </tr>\n",
              "    <tr>\n",
              "      <th>816</th>\n",
              "      <td>167</td>\n",
              "      <td>dawn05@tucker-brown.com</td>\n",
              "      <td>(089)703-7360x8848</td>\n",
              "      <td>lu4fgcug8dr0dwbcuui1</td>\n",
              "      <td>132.132.95.33</td>\n",
              "      <td>130 Kimberly Junctions\\nEricmouth, KS 59756-2919</td>\n",
              "      <td>7</td>\n",
              "      <td>5</td>\n",
              "      <td>4</td>\n",
              "      <td>False</td>\n",
              "      <td>620</td>\n",
              "      <td>wmh52bns</td>\n",
              "      <td>1bubxa</td>\n",
              "      <td>3zmkegkb8</td>\n",
              "      <td>0</td>\n",
              "      <td>paypal</td>\n",
              "      <td>JCB 15 digit</td>\n",
              "      <td>25</td>\n",
              "      <td>1</td>\n",
              "      <td>fulfilled</td>\n",
              "    </tr>\n",
              "    <tr>\n",
              "      <th>817</th>\n",
              "      <td>167</td>\n",
              "      <td>dawn05@tucker-brown.com</td>\n",
              "      <td>(089)703-7360x8848</td>\n",
              "      <td>lu4fgcug8dr0dwbcuui1</td>\n",
              "      <td>132.132.95.33</td>\n",
              "      <td>130 Kimberly Junctions\\nEricmouth, KS 59756-2919</td>\n",
              "      <td>7</td>\n",
              "      <td>5</td>\n",
              "      <td>4</td>\n",
              "      <td>False</td>\n",
              "      <td>621</td>\n",
              "      <td>xdw33hfp</td>\n",
              "      <td>p0gdbf</td>\n",
              "      <td>3zmkegkb8</td>\n",
              "      <td>0</td>\n",
              "      <td>paypal</td>\n",
              "      <td>JCB 15 digit</td>\n",
              "      <td>19</td>\n",
              "      <td>0</td>\n",
              "      <td>fulfilled</td>\n",
              "    </tr>\n",
              "    <tr>\n",
              "      <th>818</th>\n",
              "      <td>167</td>\n",
              "      <td>dawn05@tucker-brown.com</td>\n",
              "      <td>(089)703-7360x8848</td>\n",
              "      <td>lu4fgcug8dr0dwbcuui1</td>\n",
              "      <td>132.132.95.33</td>\n",
              "      <td>130 Kimberly Junctions\\nEricmouth, KS 59756-2919</td>\n",
              "      <td>7</td>\n",
              "      <td>5</td>\n",
              "      <td>4</td>\n",
              "      <td>False</td>\n",
              "      <td>622</td>\n",
              "      <td>wgmajf82</td>\n",
              "      <td>5lmvrj</td>\n",
              "      <td>f0xnu5om9</td>\n",
              "      <td>0</td>\n",
              "      <td>card</td>\n",
              "      <td>JCB 16 digit</td>\n",
              "      <td>27</td>\n",
              "      <td>0</td>\n",
              "      <td>fulfilled</td>\n",
              "    </tr>\n",
              "  </tbody>\n",
              "</table>\n",
              "<p>819 rows × 20 columns</p>\n",
              "</div>\n",
              "      <button class=\"colab-df-convert\" onclick=\"convertToInteractive('df-02b37f69-15fc-436d-bddb-42dcef79d81e')\"\n",
              "              title=\"Convert this dataframe to an interactive table.\"\n",
              "              style=\"display:none;\">\n",
              "        \n",
              "  <svg xmlns=\"http://www.w3.org/2000/svg\" height=\"24px\"viewBox=\"0 0 24 24\"\n",
              "       width=\"24px\">\n",
              "    <path d=\"M0 0h24v24H0V0z\" fill=\"none\"/>\n",
              "    <path d=\"M18.56 5.44l.94 2.06.94-2.06 2.06-.94-2.06-.94-.94-2.06-.94 2.06-2.06.94zm-11 1L8.5 8.5l.94-2.06 2.06-.94-2.06-.94L8.5 2.5l-.94 2.06-2.06.94zm10 10l.94 2.06.94-2.06 2.06-.94-2.06-.94-.94-2.06-.94 2.06-2.06.94z\"/><path d=\"M17.41 7.96l-1.37-1.37c-.4-.4-.92-.59-1.43-.59-.52 0-1.04.2-1.43.59L10.3 9.45l-7.72 7.72c-.78.78-.78 2.05 0 2.83L4 21.41c.39.39.9.59 1.41.59.51 0 1.02-.2 1.41-.59l7.78-7.78 2.81-2.81c.8-.78.8-2.07 0-2.86zM5.41 20L4 18.59l7.72-7.72 1.47 1.35L5.41 20z\"/>\n",
              "  </svg>\n",
              "      </button>\n",
              "      \n",
              "  <style>\n",
              "    .colab-df-container {\n",
              "      display:flex;\n",
              "      flex-wrap:wrap;\n",
              "      gap: 12px;\n",
              "    }\n",
              "\n",
              "    .colab-df-convert {\n",
              "      background-color: #E8F0FE;\n",
              "      border: none;\n",
              "      border-radius: 50%;\n",
              "      cursor: pointer;\n",
              "      display: none;\n",
              "      fill: #1967D2;\n",
              "      height: 32px;\n",
              "      padding: 0 0 0 0;\n",
              "      width: 32px;\n",
              "    }\n",
              "\n",
              "    .colab-df-convert:hover {\n",
              "      background-color: #E2EBFA;\n",
              "      box-shadow: 0px 1px 2px rgba(60, 64, 67, 0.3), 0px 1px 3px 1px rgba(60, 64, 67, 0.15);\n",
              "      fill: #174EA6;\n",
              "    }\n",
              "\n",
              "    [theme=dark] .colab-df-convert {\n",
              "      background-color: #3B4455;\n",
              "      fill: #D2E3FC;\n",
              "    }\n",
              "\n",
              "    [theme=dark] .colab-df-convert:hover {\n",
              "      background-color: #434B5C;\n",
              "      box-shadow: 0px 1px 3px 1px rgba(0, 0, 0, 0.15);\n",
              "      filter: drop-shadow(0px 1px 2px rgba(0, 0, 0, 0.3));\n",
              "      fill: #FFFFFF;\n",
              "    }\n",
              "  </style>\n",
              "\n",
              "      <script>\n",
              "        const buttonEl =\n",
              "          document.querySelector('#df-02b37f69-15fc-436d-bddb-42dcef79d81e button.colab-df-convert');\n",
              "        buttonEl.style.display =\n",
              "          google.colab.kernel.accessAllowed ? 'block' : 'none';\n",
              "\n",
              "        async function convertToInteractive(key) {\n",
              "          const element = document.querySelector('#df-02b37f69-15fc-436d-bddb-42dcef79d81e');\n",
              "          const dataTable =\n",
              "            await google.colab.kernel.invokeFunction('convertToInteractive',\n",
              "                                                     [key], {});\n",
              "          if (!dataTable) return;\n",
              "\n",
              "          const docLinkHtml = 'Like what you see? Visit the ' +\n",
              "            '<a target=\"_blank\" href=https://colab.research.google.com/notebooks/data_table.ipynb>data table notebook</a>'\n",
              "            + ' to learn more about interactive tables.';\n",
              "          element.innerHTML = '';\n",
              "          dataTable['output_type'] = 'display_data';\n",
              "          await google.colab.output.renderOutput(dataTable, element);\n",
              "          const docLink = document.createElement('div');\n",
              "          docLink.innerHTML = docLinkHtml;\n",
              "          element.appendChild(docLink);\n",
              "        }\n",
              "      </script>\n",
              "    </div>\n",
              "  </div>\n",
              "  "
            ],
            "text/plain": [
              "     Unnamed: 0_x            customerEmail  ... transactionFailed orderState\n",
              "0               0   josephhoward@yahoo.com  ...                 0    pending\n",
              "1               0   josephhoward@yahoo.com  ...                 0  fulfilled\n",
              "2               1   evansjeffery@yahoo.com  ...                 0  fulfilled\n",
              "3               1   evansjeffery@yahoo.com  ...                 0  fulfilled\n",
              "4               1   evansjeffery@yahoo.com  ...                 1  fulfilled\n",
              "..            ...                      ...  ...               ...        ...\n",
              "814           167  dawn05@tucker-brown.com  ...                 1  fulfilled\n",
              "815           167  dawn05@tucker-brown.com  ...                 0  fulfilled\n",
              "816           167  dawn05@tucker-brown.com  ...                 1  fulfilled\n",
              "817           167  dawn05@tucker-brown.com  ...                 0  fulfilled\n",
              "818           167  dawn05@tucker-brown.com  ...                 0  fulfilled\n",
              "\n",
              "[819 rows x 20 columns]"
            ]
          },
          "metadata": {},
          "execution_count": 8
        }
      ]
    },
    {
      "cell_type": "markdown",
      "source": [
        "###2.3 DROP UNNECESARRY COLUMN"
      ],
      "metadata": {
        "id": "4INeaJl9WNmR"
      }
    },
    {
      "cell_type": "markdown",
      "source": [
        "I decided to drop some features because the information contained in these features is not strong enough, easy to modify so it doesn't have a behavior pattern"
      ],
      "metadata": {
        "id": "o8gGaXSAHow8"
      }
    },
    {
      "cell_type": "code",
      "source": [
        "df.drop(columns=[\"Unnamed: 0_x\", \"customerEmail\", \"customerPhone\", \"customerDevice\", \"customerIPAddress\", \"customerBillingAddress\", \"transactionId\", \"orderId\", \"paymentMethodId\", \"Unnamed: 0_y\"],axis=1,inplace=True)\n",
        "df.head(2)"
      ],
      "metadata": {
        "colab": {
          "base_uri": "https://localhost:8080/",
          "height": 176
        },
        "id": "BrGnK7lrWWYT",
        "outputId": "c74008f3-24d6-4f1d-da48-3abba6708dfc"
      },
      "execution_count": null,
      "outputs": [
        {
          "output_type": "execute_result",
          "data": {
            "text/html": [
              "\n",
              "  <div id=\"df-310bcc32-a50a-4310-8b43-31e8bc34f302\">\n",
              "    <div class=\"colab-df-container\">\n",
              "      <div>\n",
              "<style scoped>\n",
              "    .dataframe tbody tr th:only-of-type {\n",
              "        vertical-align: middle;\n",
              "    }\n",
              "\n",
              "    .dataframe tbody tr th {\n",
              "        vertical-align: top;\n",
              "    }\n",
              "\n",
              "    .dataframe thead th {\n",
              "        text-align: right;\n",
              "    }\n",
              "</style>\n",
              "<table border=\"1\" class=\"dataframe\">\n",
              "  <thead>\n",
              "    <tr style=\"text-align: right;\">\n",
              "      <th></th>\n",
              "      <th>No_Transactions</th>\n",
              "      <th>No_Orders</th>\n",
              "      <th>No_Payments</th>\n",
              "      <th>Fraud</th>\n",
              "      <th>paymentMethodRegistrationFailure</th>\n",
              "      <th>paymentMethodType</th>\n",
              "      <th>paymentMethodProvider</th>\n",
              "      <th>transactionAmount</th>\n",
              "      <th>transactionFailed</th>\n",
              "      <th>orderState</th>\n",
              "    </tr>\n",
              "  </thead>\n",
              "  <tbody>\n",
              "    <tr>\n",
              "      <th>0</th>\n",
              "      <td>2</td>\n",
              "      <td>2</td>\n",
              "      <td>1</td>\n",
              "      <td>False</td>\n",
              "      <td>1</td>\n",
              "      <td>card</td>\n",
              "      <td>JCB 16 digit</td>\n",
              "      <td>18</td>\n",
              "      <td>0</td>\n",
              "      <td>pending</td>\n",
              "    </tr>\n",
              "    <tr>\n",
              "      <th>1</th>\n",
              "      <td>2</td>\n",
              "      <td>2</td>\n",
              "      <td>1</td>\n",
              "      <td>False</td>\n",
              "      <td>1</td>\n",
              "      <td>card</td>\n",
              "      <td>JCB 16 digit</td>\n",
              "      <td>26</td>\n",
              "      <td>0</td>\n",
              "      <td>fulfilled</td>\n",
              "    </tr>\n",
              "  </tbody>\n",
              "</table>\n",
              "</div>\n",
              "      <button class=\"colab-df-convert\" onclick=\"convertToInteractive('df-310bcc32-a50a-4310-8b43-31e8bc34f302')\"\n",
              "              title=\"Convert this dataframe to an interactive table.\"\n",
              "              style=\"display:none;\">\n",
              "        \n",
              "  <svg xmlns=\"http://www.w3.org/2000/svg\" height=\"24px\"viewBox=\"0 0 24 24\"\n",
              "       width=\"24px\">\n",
              "    <path d=\"M0 0h24v24H0V0z\" fill=\"none\"/>\n",
              "    <path d=\"M18.56 5.44l.94 2.06.94-2.06 2.06-.94-2.06-.94-.94-2.06-.94 2.06-2.06.94zm-11 1L8.5 8.5l.94-2.06 2.06-.94-2.06-.94L8.5 2.5l-.94 2.06-2.06.94zm10 10l.94 2.06.94-2.06 2.06-.94-2.06-.94-.94-2.06-.94 2.06-2.06.94z\"/><path d=\"M17.41 7.96l-1.37-1.37c-.4-.4-.92-.59-1.43-.59-.52 0-1.04.2-1.43.59L10.3 9.45l-7.72 7.72c-.78.78-.78 2.05 0 2.83L4 21.41c.39.39.9.59 1.41.59.51 0 1.02-.2 1.41-.59l7.78-7.78 2.81-2.81c.8-.78.8-2.07 0-2.86zM5.41 20L4 18.59l7.72-7.72 1.47 1.35L5.41 20z\"/>\n",
              "  </svg>\n",
              "      </button>\n",
              "      \n",
              "  <style>\n",
              "    .colab-df-container {\n",
              "      display:flex;\n",
              "      flex-wrap:wrap;\n",
              "      gap: 12px;\n",
              "    }\n",
              "\n",
              "    .colab-df-convert {\n",
              "      background-color: #E8F0FE;\n",
              "      border: none;\n",
              "      border-radius: 50%;\n",
              "      cursor: pointer;\n",
              "      display: none;\n",
              "      fill: #1967D2;\n",
              "      height: 32px;\n",
              "      padding: 0 0 0 0;\n",
              "      width: 32px;\n",
              "    }\n",
              "\n",
              "    .colab-df-convert:hover {\n",
              "      background-color: #E2EBFA;\n",
              "      box-shadow: 0px 1px 2px rgba(60, 64, 67, 0.3), 0px 1px 3px 1px rgba(60, 64, 67, 0.15);\n",
              "      fill: #174EA6;\n",
              "    }\n",
              "\n",
              "    [theme=dark] .colab-df-convert {\n",
              "      background-color: #3B4455;\n",
              "      fill: #D2E3FC;\n",
              "    }\n",
              "\n",
              "    [theme=dark] .colab-df-convert:hover {\n",
              "      background-color: #434B5C;\n",
              "      box-shadow: 0px 1px 3px 1px rgba(0, 0, 0, 0.15);\n",
              "      filter: drop-shadow(0px 1px 2px rgba(0, 0, 0, 0.3));\n",
              "      fill: #FFFFFF;\n",
              "    }\n",
              "  </style>\n",
              "\n",
              "      <script>\n",
              "        const buttonEl =\n",
              "          document.querySelector('#df-310bcc32-a50a-4310-8b43-31e8bc34f302 button.colab-df-convert');\n",
              "        buttonEl.style.display =\n",
              "          google.colab.kernel.accessAllowed ? 'block' : 'none';\n",
              "\n",
              "        async function convertToInteractive(key) {\n",
              "          const element = document.querySelector('#df-310bcc32-a50a-4310-8b43-31e8bc34f302');\n",
              "          const dataTable =\n",
              "            await google.colab.kernel.invokeFunction('convertToInteractive',\n",
              "                                                     [key], {});\n",
              "          if (!dataTable) return;\n",
              "\n",
              "          const docLinkHtml = 'Like what you see? Visit the ' +\n",
              "            '<a target=\"_blank\" href=https://colab.research.google.com/notebooks/data_table.ipynb>data table notebook</a>'\n",
              "            + ' to learn more about interactive tables.';\n",
              "          element.innerHTML = '';\n",
              "          dataTable['output_type'] = 'display_data';\n",
              "          await google.colab.output.renderOutput(dataTable, element);\n",
              "          const docLink = document.createElement('div');\n",
              "          docLink.innerHTML = docLinkHtml;\n",
              "          element.appendChild(docLink);\n",
              "        }\n",
              "      </script>\n",
              "    </div>\n",
              "  </div>\n",
              "  "
            ],
            "text/plain": [
              "   No_Transactions  No_Orders  ...  transactionFailed  orderState\n",
              "0                2          2  ...                  0     pending\n",
              "1                2          2  ...                  0   fulfilled\n",
              "\n",
              "[2 rows x 10 columns]"
            ]
          },
          "metadata": {},
          "execution_count": 9
        }
      ]
    },
    {
      "cell_type": "markdown",
      "source": [
        "###2.4 CHECKING MISSING VALUE"
      ],
      "metadata": {
        "id": "L8TClRBmWA4_"
      }
    },
    {
      "cell_type": "code",
      "source": [
        "df.info()"
      ],
      "metadata": {
        "colab": {
          "base_uri": "https://localhost:8080/"
        },
        "id": "N6EEr3dJcu65",
        "outputId": "722e510a-0a3e-4f8c-8dc8-51d35ddddfe9"
      },
      "execution_count": null,
      "outputs": [
        {
          "output_type": "stream",
          "name": "stdout",
          "text": [
            "<class 'pandas.core.frame.DataFrame'>\n",
            "Int64Index: 819 entries, 0 to 818\n",
            "Data columns (total 10 columns):\n",
            " #   Column                            Non-Null Count  Dtype \n",
            "---  ------                            --------------  ----- \n",
            " 0   No_Transactions                   819 non-null    int64 \n",
            " 1   No_Orders                         819 non-null    int64 \n",
            " 2   No_Payments                       819 non-null    int64 \n",
            " 3   Fraud                             819 non-null    bool  \n",
            " 4   paymentMethodRegistrationFailure  819 non-null    int64 \n",
            " 5   paymentMethodType                 819 non-null    object\n",
            " 6   paymentMethodProvider             819 non-null    object\n",
            " 7   transactionAmount                 819 non-null    int64 \n",
            " 8   transactionFailed                 819 non-null    int64 \n",
            " 9   orderState                        819 non-null    object\n",
            "dtypes: bool(1), int64(6), object(3)\n",
            "memory usage: 64.8+ KB\n"
          ]
        }
      ]
    },
    {
      "cell_type": "code",
      "source": [
        "# check for missing values\n",
        "df.isnull().sum()"
      ],
      "metadata": {
        "colab": {
          "base_uri": "https://localhost:8080/"
        },
        "id": "MGh8013Xdc1L",
        "outputId": "4367b65e-9216-4f46-a60d-ae3d4a9d1d3d"
      },
      "execution_count": null,
      "outputs": [
        {
          "output_type": "execute_result",
          "data": {
            "text/plain": [
              "No_Transactions                     0\n",
              "No_Orders                           0\n",
              "No_Payments                         0\n",
              "Fraud                               0\n",
              "paymentMethodRegistrationFailure    0\n",
              "paymentMethodType                   0\n",
              "paymentMethodProvider               0\n",
              "transactionAmount                   0\n",
              "transactionFailed                   0\n",
              "orderState                          0\n",
              "dtype: int64"
            ]
          },
          "metadata": {},
          "execution_count": 11
        }
      ]
    },
    {
      "cell_type": "code",
      "source": [
        "import missingno as msno\n",
        "\n",
        "msno.matrix(df)  # just to visualize. no missing value."
      ],
      "metadata": {
        "colab": {
          "base_uri": "https://localhost:8080/",
          "height": 500
        },
        "id": "8KZhtQ6lWEe8",
        "outputId": "1be372f6-5b64-4424-9250-02f9bd70d1ca"
      },
      "execution_count": null,
      "outputs": [
        {
          "output_type": "execute_result",
          "data": {
            "text/plain": [
              "<matplotlib.axes._subplots.AxesSubplot at 0x7fa4c591bb50>"
            ]
          },
          "metadata": {},
          "execution_count": 12
        },
        {
          "output_type": "display_data",
          "data": {
            "image/png": "[encoded data removed]",
            "text/plain": [
              "<Figure size 1800x720 with 2 Axes>"
            ]
          },
          "metadata": {
            "needs_background": "light"
          }
        }
      ]
    },
    {
      "cell_type": "markdown",
      "source": [
        "###2.5 CHANGE THE TYPE OF DATA"
      ],
      "metadata": {
        "id": "uv42-kVJz8eU"
      }
    },
    {
      "cell_type": "code",
      "source": [
        "df['Fraud'] = df['Fraud'].replace(\" \", 0).astype('object')"
      ],
      "metadata": {
        "id": "TT6l4_nGH_Sc"
      },
      "execution_count": null,
      "outputs": []
    },
    {
      "cell_type": "code",
      "source": [
        "df['paymentMethodRegistrationFailure'] = df['paymentMethodRegistrationFailure'].astype('object')"
      ],
      "metadata": {
        "id": "aOjcpB6eznm1"
      },
      "execution_count": null,
      "outputs": []
    },
    {
      "cell_type": "code",
      "source": [
        "df['transactionFailed'] = df['transactionFailed'].astype('object')\n",
        "df.info()"
      ],
      "metadata": {
        "colab": {
          "base_uri": "https://localhost:8080/"
        },
        "id": "JVGPJLInzt8m",
        "outputId": "133199d6-d8bc-4b51-9f34-6d7f4127423b"
      },
      "execution_count": null,
      "outputs": [
        {
          "output_type": "stream",
          "name": "stdout",
          "text": [
            "<class 'pandas.core.frame.DataFrame'>\n",
            "Int64Index: 819 entries, 0 to 818\n",
            "Data columns (total 10 columns):\n",
            " #   Column                            Non-Null Count  Dtype \n",
            "---  ------                            --------------  ----- \n",
            " 0   No_Transactions                   819 non-null    int64 \n",
            " 1   No_Orders                         819 non-null    int64 \n",
            " 2   No_Payments                       819 non-null    int64 \n",
            " 3   Fraud                             819 non-null    object\n",
            " 4   paymentMethodRegistrationFailure  819 non-null    object\n",
            " 5   paymentMethodType                 819 non-null    object\n",
            " 6   paymentMethodProvider             819 non-null    object\n",
            " 7   transactionAmount                 819 non-null    int64 \n",
            " 8   transactionFailed                 819 non-null    object\n",
            " 9   orderState                        819 non-null    object\n",
            "dtypes: int64(4), object(6)\n",
            "memory usage: 70.4+ KB\n"
          ]
        }
      ]
    },
    {
      "cell_type": "markdown",
      "source": [
        "#3. EDA"
      ],
      "metadata": {
        "id": "eHglStYAWI4x"
      }
    },
    {
      "cell_type": "code",
      "source": [
        "print(\"Total categories in the feature Fraud:\\n\", df[\"Fraud\"].value_counts(), \"\\n\")\n",
        "print(\"Total categories in the feature paymentMethodRegistrationFailure:\\n\", df[\"paymentMethodRegistrationFailure\"].value_counts(), \"\\n\")\n",
        "print(\"Total categories in the feature paymentMethodType:\\n\", df[\"paymentMethodType\"].value_counts(), \"\\n\")\n",
        "print(\"Total categories in the feature paymentMethodProvider:\\n\", df[\"paymentMethodProvider\"].value_counts(), \"\\n\")\n",
        "print(\"Total categories in the feature orderState:\\n\", df[\"orderState\"].value_counts())"
      ],
      "metadata": {
        "colab": {
          "base_uri": "https://localhost:8080/"
        },
        "id": "KXwYGMNsglWr",
        "outputId": "0dae4372-77f4-4208-b453-fcb55d8c3341"
      },
      "execution_count": null,
      "outputs": [
        {
          "output_type": "stream",
          "name": "stdout",
          "text": [
            "Total categories in the feature Fraud:\n",
            " True     453\n",
            "False    366\n",
            "Name: Fraud, dtype: int64 \n",
            "\n",
            "Total categories in the feature paymentMethodRegistrationFailure:\n",
            " 0    737\n",
            "1     82\n",
            "Name: paymentMethodRegistrationFailure, dtype: int64 \n",
            "\n",
            "Total categories in the feature paymentMethodType:\n",
            " card         647\n",
            "bitcoin       68\n",
            "paypal        55\n",
            "apple pay     49\n",
            "Name: paymentMethodType, dtype: int64 \n",
            "\n",
            "Total categories in the feature paymentMethodProvider:\n",
            " JCB 16 digit                   167\n",
            "VISA 16 digit                  166\n",
            "Maestro                        104\n",
            "Voyager                         82\n",
            "American Express                66\n",
            "VISA 13 digit                   58\n",
            "Diners Club / Carte Blanche     58\n",
            "JCB 15 digit                    45\n",
            "Discover                        41\n",
            "Mastercard                      32\n",
            "Name: paymentMethodProvider, dtype: int64 \n",
            "\n",
            "Total categories in the feature orderState:\n",
            " fulfilled    691\n",
            "failed        84\n",
            "pending       44\n",
            "Name: orderState, dtype: int64\n"
          ]
        }
      ]
    },
    {
      "cell_type": "code",
      "source": [
        "'''\n",
        "Visualisasi variabel target (Fraud)\n",
        "\n",
        "'''\n",
        "\n",
        "fig, axs = plt.subplots(ncols=2, figsize=(15,8))\n",
        "df['Fraud'].value_counts().plot(kind='bar', ax=axs[0])\n",
        "df['Fraud'].value_counts().plot.pie(autopct='%1.1f%%', startangle = 90, ax=axs[1])"
      ],
      "metadata": {
        "colab": {
          "base_uri": "https://localhost:8080/",
          "height": 512
        },
        "id": "TfUcDp0TeySc",
        "outputId": "c0a8336f-3067-411b-aec0-bf1c47844ad3"
      },
      "execution_count": null,
      "outputs": [
        {
          "output_type": "execute_result",
          "data": {
            "text/plain": [
              "<matplotlib.axes._subplots.AxesSubplot at 0x7fa4c33ee4d0>"
            ]
          },
          "metadata": {},
          "execution_count": 17
        },
        {
          "output_type": "display_data",
          "data": {
            "image/png": "[encoded data removed]",
            "text/plain": [
              "<Figure size 1080x576 with 2 Axes>"
            ]
          },
          "metadata": {
            "needs_background": "light"
          }
        }
      ]
    },
    {
      "cell_type": "code",
      "source": [
        "pd.crosstab(df.paymentMethodRegistrationFailure, df.Fraud).plot(kind=\"bar\",figsize=(15,6),color=['#11A5AA','#AA1190'])\n",
        "plt.title('Status of Costumer Fraud According To paymentMethodRegistrationFailure')\n",
        "plt.xlabel('paymentMethodRegistrationFailure')\n",
        "plt.xticks(rotation = 0)\n",
        "plt.ylabel('Frequency of paymentMethodRegistrationFailure Status')\n",
        "plt.show()"
      ],
      "metadata": {
        "colab": {
          "base_uri": "https://localhost:8080/",
          "height": 398
        },
        "id": "-5zl0UPLeilc",
        "outputId": "cc957551-1081-4e11-c1c4-11f9a027b194"
      },
      "execution_count": null,
      "outputs": [
        {
          "output_type": "display_data",
          "data": {
            "image/png": "[encoded data removed]",
            "text/plain": [
              "<Figure size 1080x432 with 1 Axes>"
            ]
          },
          "metadata": {
            "needs_background": "light"
          }
        }
      ]
    },
    {
      "cell_type": "code",
      "source": [
        "pd.crosstab(df.orderState, df.Fraud).plot(kind=\"bar\",figsize=(15,6),color=['#11A5AA','#AA1190'])\n",
        "plt.title('Status of Costumer Fraud According To orderState')\n",
        "plt.xlabel('orderState')\n",
        "plt.xticks(rotation = 0)\n",
        "plt.ylabel('Frequency of orderState Status')\n",
        "plt.show()"
      ],
      "metadata": {
        "colab": {
          "base_uri": "https://localhost:8080/",
          "height": 398
        },
        "id": "s3ZwNzLWeOKd",
        "outputId": "681d67eb-16bd-42d3-983f-d5dac8579642"
      },
      "execution_count": null,
      "outputs": [
        {
          "output_type": "display_data",
          "data": {
            "image/png": "[encoded data removed]",
            "text/plain": [
              "<Figure size 1080x432 with 1 Axes>"
            ]
          },
          "metadata": {
            "needs_background": "light"
          }
        }
      ]
    },
    {
      "cell_type": "code",
      "source": [
        "pd.crosstab(df.paymentMethodType, df.Fraud).plot(kind=\"bar\",figsize=(15,6),color=['#11A5AA','#AA1190'])\n",
        "plt.title('Status of Costumer Fraud According To paymentMethodType')\n",
        "plt.xlabel('paymentMethodType')\n",
        "plt.xticks(rotation = 0)\n",
        "plt.ylabel('Frequency of paymentMethodType Status')\n",
        "plt.show()"
      ],
      "metadata": {
        "colab": {
          "base_uri": "https://localhost:8080/",
          "height": 398
        },
        "id": "gecg7TyRdmet",
        "outputId": "69127f58-2844-43fc-e9b7-4283b17808a5"
      },
      "execution_count": null,
      "outputs": [
        {
          "output_type": "display_data",
          "data": {
            "image/png": "[encoded data removed]",
            "text/plain": [
              "<Figure size 1080x432 with 1 Axes>"
            ]
          },
          "metadata": {
            "needs_background": "light"
          }
        }
      ]
    },
    {
      "cell_type": "code",
      "source": [
        "pd.crosstab(df.paymentMethodProvider, df.Fraud).plot(kind=\"bar\",figsize=(25,12),color=['#11A5AA','#AA1190'])\n",
        "plt.title('Status of Costumer Fraud According To paymentMethodProvider')\n",
        "plt.xlabel('paymentMethodProvider')\n",
        "plt.xticks(rotation = 0)\n",
        "plt.ylabel('Frequency of paymentMethodProvider Status')\n",
        "plt.show()"
      ],
      "metadata": {
        "colab": {
          "base_uri": "https://localhost:8080/",
          "height": 446
        },
        "id": "bOH_hcILdmoW",
        "outputId": "72ae2ba8-8035-4b4a-c5f5-4fbb4c56a2ca"
      },
      "execution_count": null,
      "outputs": [
        {
          "output_type": "display_data",
          "data": {
            "image/png": "[encoded data removed]",
            "text/plain": [
              "<Figure size 1800x864 with 1 Axes>"
            ]
          },
          "metadata": {
            "needs_background": "light"
          }
        }
      ]
    },
    {
      "cell_type": "code",
      "source": [
        "bins = [0, 2, 4, 6, 8, 10, 12, 14, 16]\n",
        "plt.figure(figsize=(18, 6))\n",
        "sns.histplot(data=df, x=\"No_Transactions\", bins=bins, hue=\"Fraud\");\n",
        "sns.despine(top=True, right=True)"
      ],
      "metadata": {
        "colab": {
          "base_uri": "https://localhost:8080/",
          "height": 323
        },
        "id": "plsvb7Isg5YJ",
        "outputId": "ab546694-2357-499c-938a-0ccf6ff5e424"
      },
      "execution_count": null,
      "outputs": [
        {
          "output_type": "display_data",
          "data": {
            "image/png": "[encoded data removed]",
            "text/plain": [
              "<Figure size 1296x432 with 1 Axes>"
            ]
          },
          "metadata": {
            "needs_background": "light"
          }
        }
      ]
    },
    {
      "cell_type": "code",
      "source": [
        "bins = [0, 2, 4, 6, 8, 10, 12]\n",
        "plt.figure(figsize=(18, 6))\n",
        "sns.histplot(data=df, x=\"No_Orders\", bins=bins, hue=\"Fraud\");\n",
        "sns.despine(top=True, right=True)"
      ],
      "metadata": {
        "colab": {
          "base_uri": "https://localhost:8080/",
          "height": 323
        },
        "id": "ywdcCvk4pN2g",
        "outputId": "8fe2f29f-b69a-4e7a-98c3-0ab9150a4de5"
      },
      "execution_count": null,
      "outputs": [
        {
          "output_type": "display_data",
          "data": {
            "image/png": "[encoded data removed]",
            "text/plain": [
              "<Figure size 1296x432 with 1 Axes>"
            ]
          },
          "metadata": {
            "needs_background": "light"
          }
        }
      ]
    },
    {
      "cell_type": "code",
      "source": [
        "pd.crosstab(df.transactionFailed, df.Fraud).plot(kind=\"bar\",figsize=(25,12),color=['#11A5AA','#AA1190'])\n",
        "plt.title('Status of Costumer Fraud According To transactionFailed')\n",
        "plt.xlabel('transactionFailed')\n",
        "plt.xticks(rotation = 0)\n",
        "plt.ylabel('Frequency of transactionFailed Status')\n",
        "plt.show()"
      ],
      "metadata": {
        "colab": {
          "base_uri": "https://localhost:8080/",
          "height": 446
        },
        "id": "amGaAQkXkyka",
        "outputId": "782dd768-2b63-484c-e223-11fb4a896315"
      },
      "execution_count": null,
      "outputs": [
        {
          "output_type": "display_data",
          "data": {
            "image/png": "[encoded data removed]",
            "text/plain": [
              "<Figure size 1800x864 with 1 Axes>"
            ]
          },
          "metadata": {
            "needs_background": "light"
          }
        }
      ]
    },
    {
      "cell_type": "code",
      "source": [
        "bins = [0, 10, 20, 30, 40, 50, 60, 70, 80, 90, 100]\n",
        "plt.figure(figsize=(18, 6))\n",
        "sns.histplot(data=df, x=\"transactionAmount\", bins=bins, hue=\"Fraud\");\n",
        "sns.despine(top=True, right=True)"
      ],
      "metadata": {
        "colab": {
          "base_uri": "https://localhost:8080/",
          "height": 323
        },
        "id": "X21YMGiSiaUA",
        "outputId": "17178d94-9508-483d-a731-e7a9065085bc"
      },
      "execution_count": null,
      "outputs": [
        {
          "output_type": "display_data",
          "data": {
            "image/png": "[encoded data removed]",
            "text/plain": [
              "<Figure size 1296x432 with 1 Axes>"
            ]
          },
          "metadata": {
            "needs_background": "light"
          }
        }
      ]
    },
    {
      "cell_type": "code",
      "source": [
        "bins = [0, 1, 3, 5, 7, 9, 11, 13, 15, 17, 19]\n",
        "plt.figure(figsize=(18, 6))\n",
        "sns.histplot(data=df, x=\"No_Payments\", bins=bins, hue=\"Fraud\");\n",
        "sns.despine(top=True, right=True)"
      ],
      "metadata": {
        "colab": {
          "base_uri": "https://localhost:8080/",
          "height": 324
        },
        "id": "0f7TFGaDiDN7",
        "outputId": "cfff8e23-63fd-4a87-e828-7103985b10d5"
      },
      "execution_count": null,
      "outputs": [
        {
          "output_type": "display_data",
          "data": {
            "image/png": "[encoded data removed]",
            "text/plain": [
              "<Figure size 1296x432 with 1 Axes>"
            ]
          },
          "metadata": {
            "needs_background": "light"
          }
        }
      ]
    },
    {
      "cell_type": "markdown",
      "source": [
        "#4. PREPROCESSING DATA"
      ],
      "metadata": {
        "id": "nZbCjaDhowTf"
      }
    },
    {
      "cell_type": "markdown",
      "source": [
        "###4.1 SPLIT DATASET"
      ],
      "metadata": {
        "id": "A_xi_tJ8ozJO"
      }
    },
    {
      "cell_type": "code",
      "source": [
        "X = df.drop('Fraud', axis = 1)\n",
        "y = df.Fraud"
      ],
      "metadata": {
        "id": "n2htJ3_So0ZQ"
      },
      "execution_count": null,
      "outputs": []
    },
    {
      "cell_type": "code",
      "source": [
        "y=y.astype('int')"
      ],
      "metadata": {
        "id": "qlpiFjkNMmAv"
      },
      "execution_count": null,
      "outputs": []
    },
    {
      "cell_type": "code",
      "source": [
        "from sklearn.model_selection import train_test_split\n",
        "\n",
        "X_train, X_test, y_train, y_test = train_test_split(X, y, \n",
        "                                                    test_size=0.20, \n",
        "                                                    random_state=28, stratify = y)"
      ],
      "metadata": {
        "id": "GONHJypKo661"
      },
      "execution_count": null,
      "outputs": []
    },
    {
      "cell_type": "code",
      "source": [
        "X_train.shape, X_test.shape"
      ],
      "metadata": {
        "colab": {
          "base_uri": "https://localhost:8080/"
        },
        "id": "AIyhmxH6o96u",
        "outputId": "1962e562-dfc5-4f0a-bac0-4165bdcf7392"
      },
      "execution_count": null,
      "outputs": [
        {
          "output_type": "execute_result",
          "data": {
            "text/plain": [
              "((655, 9), (164, 9))"
            ]
          },
          "metadata": {},
          "execution_count": 31
        }
      ]
    },
    {
      "cell_type": "markdown",
      "source": [
        "###4.2 HANDLING OUTLIER"
      ],
      "metadata": {
        "id": "rbm1o2AZpCvj"
      }
    },
    {
      "cell_type": "markdown",
      "source": [
        "####X_TRAIN"
      ],
      "metadata": {
        "id": "PgVfDqP_pFLI"
      }
    },
    {
      "cell_type": "code",
      "source": [
        "'''\n",
        "Menampilkan presentasi outlier pada X_train\n",
        "\n",
        "'''\n",
        "num_train = X_train._get_numeric_data() \n",
        "for k, v in num_train.items():\n",
        "  q1 = v.quantile(0.25)\n",
        "  q3 = v.quantile(0.75)\n",
        "  irq = q3 - q1\n",
        "  v_col = v[(v <= q1 - 1.5 * irq) | (v >= q3 + 1.5 * irq)]\n",
        "  perc = np.shape(v_col)[0] * 100.0 / np.shape(num_train)[0]\n",
        "  print(\"Column %s outliers = %.2f%%\" % (k, perc))"
      ],
      "metadata": {
        "colab": {
          "base_uri": "https://localhost:8080/"
        },
        "id": "yK4BNykSpEcM",
        "outputId": "37c4dbc5-31fe-4478-b071-1c55d03d0ea9"
      },
      "execution_count": null,
      "outputs": [
        {
          "output_type": "stream",
          "name": "stdout",
          "text": [
            "Column No_Transactions outliers = 17.71%\n",
            "Column No_Orders outliers = 12.37%\n",
            "Column No_Payments outliers = 5.19%\n",
            "Column transactionAmount outliers = 0.15%\n"
          ]
        }
      ]
    },
    {
      "cell_type": "code",
      "source": [
        "num_train = X_train._get_numeric_data()\n",
        "num_train.isnull().sum()"
      ],
      "metadata": {
        "colab": {
          "base_uri": "https://localhost:8080/"
        },
        "id": "B06yL6eiptQc",
        "outputId": "93955b7c-5eea-48c6-da20-f26585503fde"
      },
      "execution_count": null,
      "outputs": [
        {
          "output_type": "execute_result",
          "data": {
            "text/plain": [
              "No_Transactions      0\n",
              "No_Orders            0\n",
              "No_Payments          0\n",
              "transactionAmount    0\n",
              "dtype: int64"
            ]
          },
          "metadata": {},
          "execution_count": 33
        }
      ]
    },
    {
      "cell_type": "code",
      "source": [
        "for i in num_train:\n",
        "  fig, axs = plt.subplots(1,2,figsize=(16, 4))\n",
        "  sns.histplot(num_train[i], bins = 30, kde=True, ax = axs[0])\n",
        "  sns.boxplot(num_train[i], ax = axs[1])\n",
        "\n",
        "  axs[0].axvline(num_train[i].mean(), color='red', linestyle='dashed', label = 'Mean')\n",
        "  axs[0].legend()"
      ],
      "metadata": {
        "colab": {
          "base_uri": "https://localhost:8080/",
          "height": 1000
        },
        "id": "PLP7qwJAqOgE",
        "outputId": "29198579-c604-488e-8d51-20c07aa01d0a"
      },
      "execution_count": null,
      "outputs": [
        {
          "output_type": "stream",
          "name": "stderr",
          "text": [
            "/usr/local/lib/python3.7/dist-packages/seaborn/_decorators.py:43: FutureWarning: Pass the following variable as a keyword arg: x. From version 0.12, the only valid positional argument will be `data`, and passing other arguments without an explicit keyword will result in an error or misinterpretation.\n",
            "  FutureWarning\n",
            "/usr/local/lib/python3.7/dist-packages/seaborn/_decorators.py:43: FutureWarning: Pass the following variable as a keyword arg: x. From version 0.12, the only valid positional argument will be `data`, and passing other arguments without an explicit keyword will result in an error or misinterpretation.\n",
            "  FutureWarning\n",
            "/usr/local/lib/python3.7/dist-packages/seaborn/_decorators.py:43: FutureWarning: Pass the following variable as a keyword arg: x. From version 0.12, the only valid positional argument will be `data`, and passing other arguments without an explicit keyword will result in an error or misinterpretation.\n",
            "  FutureWarning\n",
            "/usr/local/lib/python3.7/dist-packages/seaborn/_decorators.py:43: FutureWarning: Pass the following variable as a keyword arg: x. From version 0.12, the only valid positional argument will be `data`, and passing other arguments without an explicit keyword will result in an error or misinterpretation.\n",
            "  FutureWarning\n"
          ]
        },
        {
          "output_type": "display_data",
          "data": {
            "image/png": "[encoded data removed]",
            "text/plain": [
              "<Figure size 1152x288 with 2 Axes>"
            ]
          },
          "metadata": {
            "needs_background": "light"
          }
        },
        {
          "output_type": "display_data",
          "data": {
            "image/png": "[encoded data removed]",
            "text/plain": [
              "<Figure size 1152x288 with 2 Axes>"
            ]
          },
          "metadata": {
            "needs_background": "light"
          }
        },
        {
          "output_type": "display_data",
          "data": {
            "image/png": "[encoded data removed]",
            "text/plain": [
              "<Figure size 1152x288 with 2 Axes>"
            ]
          },
          "metadata": {
            "needs_background": "light"
          }
        },
        {
          "output_type": "display_data",
          "data": {
            "image/png": "[encoded data removed]",
            "text/plain": [
              "<Figure size 1152x288 with 2 Axes>"
            ]
          },
          "metadata": {
            "needs_background": "light"
          }
        }
      ]
    },
    {
      "cell_type": "markdown",
      "source": [
        "1. Terlihat bahwa terdapat outlier di total transaksi (no_transaction) di angka <1 dan >8\n",
        "2. Terlihat bahwa terdapat outlier di jumlah payments (no_payment) di angka >6\n",
        "3. Terlihat bahwa terdapat outlier di jumlah transaksi (transactionAmount) di angka 350\n",
        "\n",
        "**Saya memutuskan untuk mempertahankan outlier yang ada karena saya memiliki kecurigaan bahwa angka outlier ini mengindikasikan suatu kejadian yang tidak wajar**"
      ],
      "metadata": {
        "id": "bVujT06Lq_Z6"
      }
    },
    {
      "cell_type": "markdown",
      "source": [
        "###4.3 FEATURE SELECTION"
      ],
      "metadata": {
        "id": "G0CCyNg5vfE9"
      }
    },
    {
      "cell_type": "code",
      "source": [
        "# Correlation between the numerical features \n",
        "fig, ax = plt.subplots(figsize=(10,6))\n",
        "\n",
        "mask = np.triu(np.ones_like(X_train.corr(), dtype=np.bool))\n",
        "sns.heatmap(X_train.corr(), annot=True, cmap=\"Blues\", mask=mask, linewidth=0.5, fmt=\".2f\")"
      ],
      "metadata": {
        "colab": {
          "base_uri": "https://localhost:8080/",
          "height": 461
        },
        "id": "31bfNYRIvi2q",
        "outputId": "428a8b9e-a2d4-4ac2-ca27-423898265d4c"
      },
      "execution_count": null,
      "outputs": [
        {
          "output_type": "stream",
          "name": "stderr",
          "text": [
            "/usr/local/lib/python3.7/dist-packages/ipykernel_launcher.py:4: DeprecationWarning: `np.bool` is a deprecated alias for the builtin `bool`. To silence this warning, use `bool` by itself. Doing this will not modify any behavior and is safe. If you specifically wanted the numpy scalar type, use `np.bool_` here.\n",
            "Deprecated in NumPy 1.20; for more details and guidance: https://numpy.org/devdocs/release/1.20.0-notes.html#deprecations\n",
            "  after removing the cwd from sys.path.\n"
          ]
        },
        {
          "output_type": "execute_result",
          "data": {
            "text/plain": [
              "<matplotlib.axes._subplots.AxesSubplot at 0x7fa4c323dc10>"
            ]
          },
          "metadata": {},
          "execution_count": 38
        },
        {
          "output_type": "display_data",
          "data": {
            "image/png": "[encoded data removed]",
            "text/plain": [
              "<Figure size 720x432 with 2 Axes>"
            ]
          },
          "metadata": {
            "needs_background": "light"
          }
        }
      ]
    },
    {
      "cell_type": "code",
      "source": [
        "# Correlation in Categorical Features\n",
        "\n",
        "categorical = [var for var in X_train.columns if X_train[var].dtype=='object']\n",
        "\n",
        "def conditional_entropy(x,y):\n",
        "    # entropy of x given y\n",
        "    y_counter = Counter(y)\n",
        "    xy_counter = Counter(list(zip(x,y)))\n",
        "    total_occurrences = sum(y_counter.values())\n",
        "    entropy = 0\n",
        "    for xy in xy_counter.keys():\n",
        "        p_xy = xy_counter[xy] / total_occurrences\n",
        "        p_y = y_counter[xy[1]] / total_occurrences\n",
        "        entropy += p_xy * math.log(p_y/p_xy)\n",
        "    return entropy\n",
        "\n",
        "def theil_u(x,y):\n",
        "    s_xy = conditional_entropy(x,y)\n",
        "    x_counter = Counter(x)\n",
        "    total_occurrences = sum(x_counter.values())\n",
        "    p_x = list(map(lambda n: n/total_occurrences, x_counter.values()))\n",
        "    s_x = ss.entropy(p_x)\n",
        "    if s_x == 0:\n",
        "        return 1\n",
        "    else:\n",
        "        return (s_x - s_xy) / s_x"
      ],
      "metadata": {
        "id": "zoUY3l1F0W_W"
      },
      "execution_count": null,
      "outputs": []
    },
    {
      "cell_type": "code",
      "source": [
        "theilu = pd.DataFrame(index=['Fraud'],columns=df[categorical].columns)\n",
        "columns = df[categorical].columns\n",
        "for j in range(0,len(columns)):\n",
        "    u = theil_u(df['Fraud'].tolist(),df[columns[j]].tolist())\n",
        "    theilu.loc[:,columns[j]] = u\n",
        "theilu.fillna(value=np.nan,inplace=True)\n",
        "plt.rcParams['font.size'] = '14'\n",
        "plt.figure(figsize=(20,3))\n",
        "sns.heatmap(theilu,annot=True,fmt='.2f', cmap = 'PuBuGn')\n",
        "plt.show()"
      ],
      "metadata": {
        "colab": {
          "base_uri": "https://localhost:8080/",
          "height": 182
        },
        "id": "5vP7GCzN0ZE3",
        "outputId": "257505ec-5a8f-458e-ab4e-c50e9423e801"
      },
      "execution_count": null,
      "outputs": [
        {
          "output_type": "display_data",
          "data": {
            "image/png": "[encoded data removed]",
            "text/plain": [
              "<Figure size 1440x216 with 2 Axes>"
            ]
          },
          "metadata": {
            "needs_background": "light"
          }
        }
      ]
    },
    {
      "cell_type": "code",
      "source": [
        "num_cols=X_train.select_dtypes(include=['int64','float64']).columns.tolist()"
      ],
      "metadata": {
        "id": "c9t0TJM00xXZ"
      },
      "execution_count": null,
      "outputs": []
    },
    {
      "cell_type": "code",
      "source": [
        "from sklearn.ensemble import ExtraTreesClassifier\n",
        "\n",
        "# feature extraction\n",
        "model = ExtraTreesClassifier(n_estimators=400)\n",
        "model.fit(X_train[num_cols], y_train)\n",
        "\n",
        "# feature_importances_ from highest to lowest\n",
        "sorted_idx = np.argsort(model.feature_importances_)\n",
        "sorted_idx = sorted_idx[::-1]\n",
        "\n",
        "# plot feature importances\n",
        "plt.figure(figsize=(10,6))\n",
        "plt.title(\"Feature importances\")\n",
        "plt.bar(range(X_train[num_cols].shape[1]), model.feature_importances_[sorted_idx],\n",
        "        color=\"lightblue\", align=\"center\")\n",
        "plt.xticks(range(X_train[num_cols].shape[1]), X_train[num_cols].columns[sorted_idx], rotation=90)\n",
        "plt.xlim([-1, X_train[num_cols].shape[1]])\n",
        "plt.show()"
      ],
      "metadata": {
        "colab": {
          "base_uri": "https://localhost:8080/",
          "height": 516
        },
        "id": "84J6Eae50zJF",
        "outputId": "fdec5cc3-f198-4f42-bd31-0ef8b4c0a4d9"
      },
      "execution_count": null,
      "outputs": [
        {
          "output_type": "display_data",
          "data": {
            "image/png": "[encoded data removed]",
            "text/plain": [
              "<Figure size 720x432 with 1 Axes>"
            ]
          },
          "metadata": {
            "needs_background": "light"
          }
        }
      ]
    },
    {
      "cell_type": "code",
      "source": [
        "#Define feature encoder \n",
        "le = LabelEncoder() #categorical encoder\n",
        "feat_cat = pd.concat([X_train[categorical], y_train], axis=1) \n",
        "feat_cats= feat_cat.apply(le.fit_transform) #transform categorical to numeric\n",
        "\n",
        "#Define Feature Selection with Chi-Square approach\n",
        "fs_cat = SelectKBest(score_func=chi2, k='all')\n",
        "\n",
        "#Apply categorical feature selection to Training Data\n",
        "X_features_cat = fs_cat.fit_transform(feat_cats.drop(\"Fraud\", axis=1), feat_cats['Fraud'])\n",
        "\n",
        "# what are scores for the features\n",
        "for col in list(feat_cats.drop(\"Fraud\", axis=1).columns):\n",
        "  score = fs_cat.scores_[feat_cats.drop(\"Fraud\", axis=1).columns.get_loc(col)]\n",
        "  print(\"Feature %s : %.2f \" %(col , score))\n",
        "print(\"\")\n",
        "\n",
        "#barplot\n",
        "PALETTE = sns.color_palette(\"PuBuGn\")\n",
        "plt.figure(figsize=(30,10));\n",
        "plt.bar([col for col in list(feat_cats.drop(\"Fraud\", axis=1).columns)], fs_cat.scores_ , color=PALETTE);\n",
        "plt.xticks(rotation=30);"
      ],
      "metadata": {
        "colab": {
          "base_uri": "https://localhost:8080/",
          "height": 473
        },
        "id": "Q577249p02Zk",
        "outputId": "d80ca68b-89bc-4a5e-ae48-34c0da4de82b"
      },
      "execution_count": null,
      "outputs": [
        {
          "output_type": "stream",
          "name": "stdout",
          "text": [
            "Feature paymentMethodRegistrationFailure : 3.88 \n",
            "Feature paymentMethodType : 0.02 \n",
            "Feature paymentMethodProvider : 21.30 \n",
            "Feature transactionFailed : 3.22 \n",
            "Feature orderState : 0.81 \n",
            "\n"
          ]
        },
        {
          "output_type": "display_data",
          "data": {
            "image/png": "[encoded data removed]",
            "text/plain": [
              "<Figure size 2160x720 with 1 Axes>"
            ]
          },
          "metadata": {
            "needs_background": "light"
          }
        }
      ]
    },
    {
      "cell_type": "code",
      "source": [
        "X_train = X_train.loc[:, ['transactionAmount', 'No_Transactions', 'No_Orders', 'No_Payments', 'paymentMethodRegistrationFailure', 'paymentMethodProvider', 'transactionFailed']]\n",
        "X_test = X_test.loc[:, ['transactionAmount', 'No_Transactions', 'No_Orders', 'No_Payments', 'paymentMethodRegistrationFailure', 'paymentMethodProvider', 'transactionFailed']]"
      ],
      "metadata": {
        "id": "yZVp6JGB2d3B"
      },
      "execution_count": null,
      "outputs": []
    },
    {
      "cell_type": "markdown",
      "source": [
        "###4.4 FEATURE ENCODING"
      ],
      "metadata": {
        "id": "2At0387K34Gq"
      }
    },
    {
      "cell_type": "code",
      "source": [
        "X_train['paymentMethodProvider'] = X_train['paymentMethodProvider'].map({'American Express': 0, 'Discover': 1, 'Diners Club / Carte Blanche': 2, 'JCB 15 digit': 3, 'JCB 16 digit': 4, 'Maestro': 5, 'Mastercard': 6, 'VISA 13 digit': 7, 'VISA 16 digit': 8, 'Voyager': 9})\n",
        "X_test['paymentMethodProvider'] = X_test['paymentMethodProvider'].map({'American Express': 0, 'Discover': 1, 'Diners Club / Carte Blanche': 2, 'JCB 15 digit': 3, 'JCB 16 digit': 4, 'Maestro': 5, 'Mastercard': 6, 'VISA 13 digit': 7, 'VISA 16 digit': 8, 'Voyager': 9})"
      ],
      "metadata": {
        "id": "3eCsLR-FGxVp"
      },
      "execution_count": null,
      "outputs": []
    },
    {
      "cell_type": "code",
      "source": [
        "# check for missing values\n",
        "X_test.isnull().sum()"
      ],
      "metadata": {
        "colab": {
          "base_uri": "https://localhost:8080/"
        },
        "id": "pGmfcKNmHZJR",
        "outputId": "e8124ab5-2f2c-4d72-964f-cc745fb8fe20"
      },
      "execution_count": null,
      "outputs": [
        {
          "output_type": "execute_result",
          "data": {
            "text/plain": [
              "transactionAmount                   0\n",
              "No_Transactions                     0\n",
              "No_Orders                           0\n",
              "No_Payments                         0\n",
              "paymentMethodRegistrationFailure    0\n",
              "paymentMethodProvider               0\n",
              "transactionFailed                   0\n",
              "dtype: int64"
            ]
          },
          "metadata": {},
          "execution_count": 48
        }
      ]
    },
    {
      "cell_type": "markdown",
      "source": [
        "#5. PIPELINE DAN HYPERPARAMETER TUNING"
      ],
      "metadata": {
        "id": "pnkHUsOfEV5y"
      }
    },
    {
      "cell_type": "code",
      "source": [
        "from sklearn.pipeline import Pipeline\n",
        "\n",
        "from sklearn.ensemble import RandomForestClassifier\n",
        "from sklearn.tree import DecisionTreeClassifier\n",
        "from sklearn.preprocessing import StandardScaler, MinMaxScaler\n",
        "\n",
        "pipe_dt = Pipeline([\n",
        "('scaler', StandardScaler()),\n",
        "('classifier', DecisionTreeClassifier(random_state=28))])\n",
        "\n",
        "pipe_rf = Pipeline([\n",
        "('scaler', StandardScaler()),\n",
        "('classifier', RandomForestClassifier(random_state=28))])\n",
        "\n",
        "#Decision Tree\n",
        "param_dt = {'scaler': [StandardScaler(),MinMaxScaler()],\n",
        "            'classifier__criterion':['gini','entropy'],\n",
        "            'classifier__max_depth':np.arange(2,8),\n",
        "            'classifier__min_samples_split':np.arange(2,8),\n",
        "            'classifier__min_samples_leaf':np.arange(2,8),\n",
        "            'classifier__max_features':['auto','sqrt','log2']\n",
        "            }\n",
        "\n",
        "#Random Forest\n",
        "param_rf = {'scaler': [StandardScaler(),MinMaxScaler()],\n",
        "            'classifier__max_depth': [10, 50, 100],\n",
        "            'classifier__max_features': [2, 3],\n",
        "            'classifier__min_samples_leaf': [3, 4, 5],\n",
        "            'classifier__min_samples_split': [8, 10, 12],\n",
        "            'classifier__n_estimators': [100, 200, 300]\n",
        "            }"
      ],
      "metadata": {
        "id": "aen_foIUEZBH"
      },
      "execution_count": null,
      "outputs": []
    },
    {
      "cell_type": "markdown",
      "source": [
        "#6. TRAIN MODEL NO TUNING AND TUNING WITH GRIDSEARCH"
      ],
      "metadata": {
        "id": "5cgDD656FeXL"
      }
    },
    {
      "cell_type": "markdown",
      "source": [
        "###6.1 DECISION TREE"
      ],
      "metadata": {
        "id": "iiYoAM_kOj-N"
      }
    },
    {
      "cell_type": "markdown",
      "source": [
        "####NOTUN"
      ],
      "metadata": {
        "id": "ZlgCIxF6OnDh"
      }
    },
    {
      "cell_type": "code",
      "source": [
        "pipe_dt.fit(X_train, y_train)\n",
        "print('Training Score: ',round(pipe_dt.score(X_train, y_train),4))\n",
        "print('Testing Score: ', round(pipe_dt.score(X_test, y_test),4))"
      ],
      "metadata": {
        "colab": {
          "base_uri": "https://localhost:8080/"
        },
        "id": "J88V4linOo0L",
        "outputId": "98611943-abae-4280-813e-582dc531a6c8"
      },
      "execution_count": null,
      "outputs": [
        {
          "output_type": "stream",
          "name": "stdout",
          "text": [
            "Training Score:  0.9985\n",
            "Testing Score:  0.8232\n"
          ]
        }
      ]
    },
    {
      "cell_type": "code",
      "source": [
        "y_dt_pred = pipe_dt.predict(X_test)"
      ],
      "metadata": {
        "id": "nQ3UKNRJOuP-"
      },
      "execution_count": null,
      "outputs": []
    },
    {
      "cell_type": "code",
      "source": [
        "cf_matrix_dt = confusion_matrix(y_test, y_dt_pred)\n",
        "sns.set(rc={'figure.figsize':(6,4)})\n",
        "\n",
        "ax = sns.heatmap(cf_matrix_dt, annot = True,cmap='Blues', fmt='g')\n",
        "ax.set_xticklabels([\"Negative\", \"Positive\"])\n",
        "ax.set_yticklabels([\"Negative\", \"Positive\"])\n",
        "plt.show()"
      ],
      "metadata": {
        "colab": {
          "base_uri": "https://localhost:8080/",
          "height": 269
        },
        "id": "ccWAUDzNOv59",
        "outputId": "7c5326c4-d3c6-42ff-b5c1-9f7fb4173c07"
      },
      "execution_count": null,
      "outputs": [
        {
          "output_type": "display_data",
          "data": {
            "image/png": "[encoded data removed]",
            "text/plain": [
              "<Figure size 432x288 with 2 Axes>"
            ]
          },
          "metadata": {}
        }
      ]
    },
    {
      "cell_type": "markdown",
      "source": [
        "####TUNING"
      ],
      "metadata": {
        "id": "yTgsFY-QOpRa"
      }
    },
    {
      "cell_type": "code",
      "source": [
        "from sklearn.model_selection import GridSearchCV\n",
        "grid_dt = GridSearchCV(pipe_dt, param_dt, cv=5).fit(X_train, y_train)"
      ],
      "metadata": {
        "id": "yhFEiEOLFW_f"
      },
      "execution_count": null,
      "outputs": []
    },
    {
      "cell_type": "code",
      "source": [
        "print('Training set score: ' + str(grid_dt.score(X_train, y_train)))\n",
        "print('Test set score: ' + str(grid_dt.score(X_test, y_test)))"
      ],
      "metadata": {
        "colab": {
          "base_uri": "https://localhost:8080/"
        },
        "id": "sydGpbMdPADa",
        "outputId": "3b5e883c-9928-4f10-beab-f1e1aaf7a420"
      },
      "execution_count": null,
      "outputs": [
        {
          "output_type": "stream",
          "name": "stdout",
          "text": [
            "Training set score: 0.7969465648854962\n",
            "Test set score: 0.6707317073170732\n"
          ]
        }
      ]
    },
    {
      "cell_type": "code",
      "source": [
        "# Access the best set of parameters\n",
        "best_params_dt = grid_dt.best_params_\n",
        "print(best_params_dt)\n",
        "\n",
        "# simpan optimum model\n",
        "best_pipe_dt = grid_dt.best_estimator_\n",
        "print(best_pipe_dt)\n",
        " \n",
        "result_df_dt = pd.DataFrame.from_dict(grid_dt.cv_results_, orient='columns')\n",
        "print(result_df_dt.columns)"
      ],
      "metadata": {
        "colab": {
          "base_uri": "https://localhost:8080/"
        },
        "id": "BvwMtFFWPDCy",
        "outputId": "b411a9fa-058e-4108-98cb-2bba0063c3df"
      },
      "execution_count": null,
      "outputs": [
        {
          "output_type": "stream",
          "name": "stdout",
          "text": [
            "{'classifier__criterion': 'entropy', 'classifier__max_depth': 7, 'classifier__max_features': 'auto', 'classifier__min_samples_leaf': 2, 'classifier__min_samples_split': 2, 'scaler': StandardScaler()}\n",
            "Pipeline(steps=[('scaler', StandardScaler()),\n",
            "                ('classifier',\n",
            "                 DecisionTreeClassifier(criterion='entropy', max_depth=7,\n",
            "                                        max_features='auto', min_samples_leaf=2,\n",
            "                                        random_state=28))])\n",
            "Index(['mean_fit_time', 'std_fit_time', 'mean_score_time', 'std_score_time',\n",
            "       'param_classifier__criterion', 'param_classifier__max_depth',\n",
            "       'param_classifier__max_features', 'param_classifier__min_samples_leaf',\n",
            "       'param_classifier__min_samples_split', 'param_scaler', 'params',\n",
            "       'split0_test_score', 'split1_test_score', 'split2_test_score',\n",
            "       'split3_test_score', 'split4_test_score', 'mean_test_score',\n",
            "       'std_test_score', 'rank_test_score'],\n",
            "      dtype='object')\n"
          ]
        }
      ]
    },
    {
      "cell_type": "code",
      "source": [
        "cf_matrix_dt = confusion_matrix(y_test, best_pipe_dt.predict(X_test))\n",
        "\n",
        "# figure size\n",
        "sns.set(rc={'figure.figsize':(6,4)})\n",
        "\n",
        "#plotting confusion matrix\n",
        "ax = sns.heatmap(cf_matrix_dt, annot=True,cmap='Blues', fmt='g')\n",
        "ax.set_xticklabels([\"Negatif\", \"Positif\"])\n",
        "ax.set_yticklabels([\"Negatif\", \"Positif\"])\n",
        "plt.show()"
      ],
      "metadata": {
        "colab": {
          "base_uri": "https://localhost:8080/",
          "height": 268
        },
        "id": "R-GgHJqjPFQX",
        "outputId": "c8fea7d2-8953-4f68-f502-6469b5856170"
      },
      "execution_count": null,
      "outputs": [
        {
          "output_type": "display_data",
          "data": {
            "image/png": "[encoded data removed]",
            "text/plain": [
              "<Figure size 432x288 with 2 Axes>"
            ]
          },
          "metadata": {}
        }
      ]
    },
    {
      "cell_type": "code",
      "source": [
        "print(classification_report(y_test, best_pipe_dt.predict(X_test)))"
      ],
      "metadata": {
        "colab": {
          "base_uri": "https://localhost:8080/"
        },
        "id": "-Xg9BoTmPG74",
        "outputId": "449c3cf5-6a54-4969-ceeb-66ccbede2c7f"
      },
      "execution_count": null,
      "outputs": [
        {
          "output_type": "stream",
          "name": "stdout",
          "text": [
            "              precision    recall  f1-score   support\n",
            "\n",
            "           0       0.69      0.48      0.56        73\n",
            "           1       0.66      0.82      0.74        91\n",
            "\n",
            "    accuracy                           0.67       164\n",
            "   macro avg       0.67      0.65      0.65       164\n",
            "weighted avg       0.67      0.67      0.66       164\n",
            "\n"
          ]
        }
      ]
    },
    {
      "cell_type": "markdown",
      "source": [
        "###6.2 RANDOM FOREST"
      ],
      "metadata": {
        "id": "8umg-1l0PSEn"
      }
    },
    {
      "cell_type": "markdown",
      "source": [
        "####NOTUN"
      ],
      "metadata": {
        "id": "l6fVbQ2SPknH"
      }
    },
    {
      "cell_type": "code",
      "source": [
        "pipe_rf.fit(X_train, y_train)\n",
        "print('Training Score: ',round(pipe_rf.score(X_train, y_train),4))\n",
        "print('Testing Score: ', round(pipe_rf.score(X_test, y_test),4))"
      ],
      "metadata": {
        "colab": {
          "base_uri": "https://localhost:8080/"
        },
        "id": "DSuCpsLgPn9X",
        "outputId": "04f3cf93-ff4a-4ba5-eb88-db85ba45c875"
      },
      "execution_count": null,
      "outputs": [
        {
          "output_type": "stream",
          "name": "stdout",
          "text": [
            "Training Score:  0.9985\n",
            "Testing Score:  0.8598\n"
          ]
        }
      ]
    },
    {
      "cell_type": "code",
      "source": [
        "y_rf_pred = pipe_rf.predict(X_test)"
      ],
      "metadata": {
        "id": "rtBhALFrPrGo"
      },
      "execution_count": null,
      "outputs": []
    },
    {
      "cell_type": "code",
      "source": [
        "cf_matrix_rf = confusion_matrix(y_test, y_rf_pred)\n",
        "sns.set(rc={'figure.figsize':(6,4)})\n",
        "\n",
        "ax = sns.heatmap(cf_matrix_rf, annot = True,cmap='Blues', fmt='g')\n",
        "ax.set_xticklabels([\"Negative\", \"Positive\"])\n",
        "ax.set_yticklabels([\"Negative\", \"Positive\"])\n",
        "plt.show()"
      ],
      "metadata": {
        "colab": {
          "base_uri": "https://localhost:8080/",
          "height": 268
        },
        "id": "_fIQn3MsPspm",
        "outputId": "2c182075-134b-47b5-e04a-1d3eb27e81f3"
      },
      "execution_count": null,
      "outputs": [
        {
          "output_type": "display_data",
          "data": {
            "image/png": "[encoded data removed]",
            "text/plain": [
              "<Figure size 432x288 with 2 Axes>"
            ]
          },
          "metadata": {}
        }
      ]
    },
    {
      "cell_type": "markdown",
      "source": [
        "####TUNING"
      ],
      "metadata": {
        "id": "dt9_M2IAPl-N"
      }
    },
    {
      "cell_type": "code",
      "source": [
        "grid_rf = GridSearchCV(pipe_rf, param_rf, cv=5).fit(X_train, y_train)"
      ],
      "metadata": {
        "id": "0IyZQxdBPvyJ"
      },
      "execution_count": null,
      "outputs": []
    },
    {
      "cell_type": "code",
      "source": [
        "print('Training set score: ' + str(grid_rf.score(X_train, y_train)))\n",
        "print('Test set score: ' + str(grid_rf.score(X_test, y_test)))"
      ],
      "metadata": {
        "colab": {
          "base_uri": "https://localhost:8080/"
        },
        "id": "1l2xxlECPxYD",
        "outputId": "2e453954-d0fa-438b-96d0-92a3008d6e9f"
      },
      "execution_count": null,
      "outputs": [
        {
          "output_type": "stream",
          "name": "stdout",
          "text": [
            "Training set score: 0.934351145038168\n",
            "Test set score: 0.8353658536585366\n"
          ]
        }
      ]
    },
    {
      "cell_type": "code",
      "source": [
        "# Access the best set of parameters\n",
        "best_params_rf = grid_rf.best_params_\n",
        "print(best_params_rf)\n",
        "\n",
        "# simpan optimum model\n",
        "best_pipe_rf = grid_rf.best_estimator_\n",
        "print(best_pipe_rf)\n",
        " \n",
        "result_df_rf = pd.DataFrame.from_dict(grid_rf.cv_results_, orient='columns')\n",
        "print(result_df_rf.columns)"
      ],
      "metadata": {
        "colab": {
          "base_uri": "https://localhost:8080/"
        },
        "id": "MvlXfmO-PyoS",
        "outputId": "172aa596-5c40-45a7-8e72-3de44304f75f"
      },
      "execution_count": null,
      "outputs": [
        {
          "output_type": "stream",
          "name": "stdout",
          "text": [
            "{'classifier__max_depth': 50, 'classifier__max_features': 3, 'classifier__min_samples_leaf': 3, 'classifier__min_samples_split': 8, 'classifier__n_estimators': 100, 'scaler': StandardScaler()}\n",
            "Pipeline(steps=[('scaler', StandardScaler()),\n",
            "                ('classifier',\n",
            "                 RandomForestClassifier(max_depth=50, max_features=3,\n",
            "                                        min_samples_leaf=3, min_samples_split=8,\n",
            "                                        random_state=28))])\n",
            "Index(['mean_fit_time', 'std_fit_time', 'mean_score_time', 'std_score_time',\n",
            "       'param_classifier__max_depth', 'param_classifier__max_features',\n",
            "       'param_classifier__min_samples_leaf',\n",
            "       'param_classifier__min_samples_split', 'param_classifier__n_estimators',\n",
            "       'param_scaler', 'params', 'split0_test_score', 'split1_test_score',\n",
            "       'split2_test_score', 'split3_test_score', 'split4_test_score',\n",
            "       'mean_test_score', 'std_test_score', 'rank_test_score'],\n",
            "      dtype='object')\n"
          ]
        }
      ]
    },
    {
      "cell_type": "code",
      "source": [
        "# Cek confusion matrix\n",
        "cf_matrix_rf = confusion_matrix(y_test, best_pipe_rf.predict(X_test))\n",
        "\n",
        "# figure size\n",
        "sns.set(rc={'figure.figsize':(6,4)})\n",
        "\n",
        "#plotting confusion matrix\n",
        "ax = sns.heatmap(cf_matrix_rf, annot=True,cmap='Blues', fmt='g')\n",
        "ax.set_xticklabels([\"Negatif\", \"Positif\"])\n",
        "ax.set_yticklabels([\"Negatif\", \"Positif\"])\n",
        "plt.show()"
      ],
      "metadata": {
        "colab": {
          "base_uri": "https://localhost:8080/",
          "height": 268
        },
        "id": "_vRn41tSP0M5",
        "outputId": "3acec47c-46a7-46eb-a369-f3df9448a327"
      },
      "execution_count": null,
      "outputs": [
        {
          "output_type": "display_data",
          "data": {
            "image/png": "[encoded data removed]",
            "text/plain": [
              "<Figure size 432x288 with 2 Axes>"
            ]
          },
          "metadata": {}
        }
      ]
    },
    {
      "cell_type": "code",
      "source": [
        "print(classification_report(y_test, best_pipe_rf.predict(X_test)))"
      ],
      "metadata": {
        "colab": {
          "base_uri": "https://localhost:8080/"
        },
        "id": "8HBpqe-HP13i",
        "outputId": "eeae14dc-1384-4b39-9f13-36d4bd1def25"
      },
      "execution_count": null,
      "outputs": [
        {
          "output_type": "stream",
          "name": "stdout",
          "text": [
            "              precision    recall  f1-score   support\n",
            "\n",
            "           0       0.83      0.79      0.81        73\n",
            "           1       0.84      0.87      0.85        91\n",
            "\n",
            "    accuracy                           0.84       164\n",
            "   macro avg       0.83      0.83      0.83       164\n",
            "weighted avg       0.84      0.84      0.83       164\n",
            "\n"
          ]
        }
      ]
    },
    {
      "cell_type": "markdown",
      "source": [
        "#7. COMPARING MODELS"
      ],
      "metadata": {
        "id": "LMEywv9SRehd"
      }
    },
    {
      "cell_type": "markdown",
      "source": [
        "###7.1 BEFORE TUNING"
      ],
      "metadata": {
        "id": "cHgvejc8RgV4"
      }
    },
    {
      "cell_type": "code",
      "source": [
        "dt_notun = pipe_dt.score(X_test, y_test)\n",
        "rf_notun = pipe_rf.score(X_test, y_test)\n",
        "\n",
        "print(round(dt_notun,4))\n",
        "print(round(rf_notun,4))"
      ],
      "metadata": {
        "colab": {
          "base_uri": "https://localhost:8080/"
        },
        "id": "w1LCU03HRlaE",
        "outputId": "fab7ba92-9381-4922-fd38-474c5be66a57"
      },
      "execution_count": null,
      "outputs": [
        {
          "output_type": "stream",
          "name": "stdout",
          "text": [
            "0.8232\n",
            "0.8598\n"
          ]
        }
      ]
    },
    {
      "cell_type": "code",
      "source": [
        "plt.figure(figsize=(12,6))\n",
        "model_acc_notun = [dt_notun, rf_notun]\n",
        "model_name_notun = ['Decision Tree', 'Random Forest']\n",
        "sns.barplot(x= model_acc_notun, y=model_name_notun, palette='magma')"
      ],
      "metadata": {
        "colab": {
          "base_uri": "https://localhost:8080/",
          "height": 394
        },
        "id": "kWCMVu_1RwUN",
        "outputId": "2c3bca88-bea6-4a38-fb0a-627c006ae433"
      },
      "execution_count": null,
      "outputs": [
        {
          "output_type": "execute_result",
          "data": {
            "text/plain": [
              "<matplotlib.axes._subplots.AxesSubplot at 0x7fa4c0b69b90>"
            ]
          },
          "metadata": {},
          "execution_count": 67
        },
        {
          "output_type": "display_data",
          "data": {
            "image/png": "[encoded data removed]",
            "text/plain": [
              "<Figure size 864x432 with 1 Axes>"
            ]
          },
          "metadata": {}
        }
      ]
    },
    {
      "cell_type": "code",
      "source": [
        "from sklearn.metrics import f1_score, recall_score\n",
        "\n",
        "models_notun = {\n",
        "    'dt_notun':pipe_dt,\n",
        "    'rf_notun':pipe_rf\n",
        "}\n",
        "metrics = {\n",
        "    'f1_score':f1_score,\n",
        "    'recall':recall_score\n",
        "}\n",
        "\n",
        "fraud_model_notun = pd.DataFrame(columns=models_notun.keys(), index=['f1_score','recall'])\n",
        "\n",
        "for metric in metrics.keys():\n",
        "    for model in models_notun.keys():\n",
        "        fraud_model_notun.loc[metric, model] = metrics[metric](y_test, models_notun[model].predict(X_test))"
      ],
      "metadata": {
        "id": "PlFCloNPR3CY"
      },
      "execution_count": null,
      "outputs": []
    },
    {
      "cell_type": "code",
      "source": [
        "fraud_model_notun"
      ],
      "metadata": {
        "colab": {
          "base_uri": "https://localhost:8080/",
          "height": 112
        },
        "id": "LRfiLpSBR7jo",
        "outputId": "9d714cf7-a46f-4a36-a41d-0117ca125446"
      },
      "execution_count": null,
      "outputs": [
        {
          "output_type": "execute_result",
          "data": {
            "text/html": [
              "\n",
              "  <div id=\"df-4b713713-a822-4d48-b272-bf1e116deb8a\">\n",
              "    <div class=\"colab-df-container\">\n",
              "      <div>\n",
              "<style scoped>\n",
              "    .dataframe tbody tr th:only-of-type {\n",
              "        vertical-align: middle;\n",
              "    }\n",
              "\n",
              "    .dataframe tbody tr th {\n",
              "        vertical-align: top;\n",
              "    }\n",
              "\n",
              "    .dataframe thead th {\n",
              "        text-align: right;\n",
              "    }\n",
              "</style>\n",
              "<table border=\"1\" class=\"dataframe\">\n",
              "  <thead>\n",
              "    <tr style=\"text-align: right;\">\n",
              "      <th></th>\n",
              "      <th>dt_notun</th>\n",
              "      <th>rf_notun</th>\n",
              "    </tr>\n",
              "  </thead>\n",
              "  <tbody>\n",
              "    <tr>\n",
              "      <th>f1_score</th>\n",
              "      <td>0.848168</td>\n",
              "      <td>0.877005</td>\n",
              "    </tr>\n",
              "    <tr>\n",
              "      <th>recall</th>\n",
              "      <td>0.89011</td>\n",
              "      <td>0.901099</td>\n",
              "    </tr>\n",
              "  </tbody>\n",
              "</table>\n",
              "</div>\n",
              "      <button class=\"colab-df-convert\" onclick=\"convertToInteractive('df-4b713713-a822-4d48-b272-bf1e116deb8a')\"\n",
              "              title=\"Convert this dataframe to an interactive table.\"\n",
              "              style=\"display:none;\">\n",
              "        \n",
              "  <svg xmlns=\"http://www.w3.org/2000/svg\" height=\"24px\"viewBox=\"0 0 24 24\"\n",
              "       width=\"24px\">\n",
              "    <path d=\"M0 0h24v24H0V0z\" fill=\"none\"/>\n",
              "    <path d=\"M18.56 5.44l.94 2.06.94-2.06 2.06-.94-2.06-.94-.94-2.06-.94 2.06-2.06.94zm-11 1L8.5 8.5l.94-2.06 2.06-.94-2.06-.94L8.5 2.5l-.94 2.06-2.06.94zm10 10l.94 2.06.94-2.06 2.06-.94-2.06-.94-.94-2.06-.94 2.06-2.06.94z\"/><path d=\"M17.41 7.96l-1.37-1.37c-.4-.4-.92-.59-1.43-.59-.52 0-1.04.2-1.43.59L10.3 9.45l-7.72 7.72c-.78.78-.78 2.05 0 2.83L4 21.41c.39.39.9.59 1.41.59.51 0 1.02-.2 1.41-.59l7.78-7.78 2.81-2.81c.8-.78.8-2.07 0-2.86zM5.41 20L4 18.59l7.72-7.72 1.47 1.35L5.41 20z\"/>\n",
              "  </svg>\n",
              "      </button>\n",
              "      \n",
              "  <style>\n",
              "    .colab-df-container {\n",
              "      display:flex;\n",
              "      flex-wrap:wrap;\n",
              "      gap: 12px;\n",
              "    }\n",
              "\n",
              "    .colab-df-convert {\n",
              "      background-color: #E8F0FE;\n",
              "      border: none;\n",
              "      border-radius: 50%;\n",
              "      cursor: pointer;\n",
              "      display: none;\n",
              "      fill: #1967D2;\n",
              "      height: 32px;\n",
              "      padding: 0 0 0 0;\n",
              "      width: 32px;\n",
              "    }\n",
              "\n",
              "    .colab-df-convert:hover {\n",
              "      background-color: #E2EBFA;\n",
              "      box-shadow: 0px 1px 2px rgba(60, 64, 67, 0.3), 0px 1px 3px 1px rgba(60, 64, 67, 0.15);\n",
              "      fill: #174EA6;\n",
              "    }\n",
              "\n",
              "    [theme=dark] .colab-df-convert {\n",
              "      background-color: #3B4455;\n",
              "      fill: #D2E3FC;\n",
              "    }\n",
              "\n",
              "    [theme=dark] .colab-df-convert:hover {\n",
              "      background-color: #434B5C;\n",
              "      box-shadow: 0px 1px 3px 1px rgba(0, 0, 0, 0.15);\n",
              "      filter: drop-shadow(0px 1px 2px rgba(0, 0, 0, 0.3));\n",
              "      fill: #FFFFFF;\n",
              "    }\n",
              "  </style>\n",
              "\n",
              "      <script>\n",
              "        const buttonEl =\n",
              "          document.querySelector('#df-4b713713-a822-4d48-b272-bf1e116deb8a button.colab-df-convert');\n",
              "        buttonEl.style.display =\n",
              "          google.colab.kernel.accessAllowed ? 'block' : 'none';\n",
              "\n",
              "        async function convertToInteractive(key) {\n",
              "          const element = document.querySelector('#df-4b713713-a822-4d48-b272-bf1e116deb8a');\n",
              "          const dataTable =\n",
              "            await google.colab.kernel.invokeFunction('convertToInteractive',\n",
              "                                                     [key], {});\n",
              "          if (!dataTable) return;\n",
              "\n",
              "          const docLinkHtml = 'Like what you see? Visit the ' +\n",
              "            '<a target=\"_blank\" href=https://colab.research.google.com/notebooks/data_table.ipynb>data table notebook</a>'\n",
              "            + ' to learn more about interactive tables.';\n",
              "          element.innerHTML = '';\n",
              "          dataTable['output_type'] = 'display_data';\n",
              "          await google.colab.output.renderOutput(dataTable, element);\n",
              "          const docLink = document.createElement('div');\n",
              "          docLink.innerHTML = docLinkHtml;\n",
              "          element.appendChild(docLink);\n",
              "        }\n",
              "      </script>\n",
              "    </div>\n",
              "  </div>\n",
              "  "
            ],
            "text/plain": [
              "          dt_notun  rf_notun\n",
              "f1_score  0.848168  0.877005\n",
              "recall     0.89011  0.901099"
            ]
          },
          "metadata": {},
          "execution_count": 69
        }
      ]
    },
    {
      "cell_type": "markdown",
      "source": [
        "###7.2 AFTER TUNING"
      ],
      "metadata": {
        "id": "SjBKWZ8oSEhm"
      }
    },
    {
      "cell_type": "code",
      "source": [
        "dt = grid_dt.score(X_test, y_test)\n",
        "rf = grid_rf.score(X_test, y_test)\n",
        "\n",
        "print(round(dt,4))\n",
        "print(round(rf,4))"
      ],
      "metadata": {
        "colab": {
          "base_uri": "https://localhost:8080/"
        },
        "id": "dMqwAFhzSGAl",
        "outputId": "de3b11b5-793f-4112-dc35-89268e903f92"
      },
      "execution_count": null,
      "outputs": [
        {
          "output_type": "stream",
          "name": "stdout",
          "text": [
            "0.6707\n",
            "0.8354\n"
          ]
        }
      ]
    },
    {
      "cell_type": "code",
      "source": [
        "plt.figure(figsize=(12,6))\n",
        "model_acc = [dt, rf]\n",
        "model_name = ['Decision Tree', 'Random Forest']\n",
        "sns.barplot(x= model_acc, y=model_name, palette='magma')"
      ],
      "metadata": {
        "colab": {
          "base_uri": "https://localhost:8080/",
          "height": 394
        },
        "id": "eGQM8jZoSNop",
        "outputId": "58f9c731-2034-4dc2-8688-e8bab4e83a34"
      },
      "execution_count": null,
      "outputs": [
        {
          "output_type": "execute_result",
          "data": {
            "text/plain": [
              "<matplotlib.axes._subplots.AxesSubplot at 0x7fa4c0b94fd0>"
            ]
          },
          "metadata": {},
          "execution_count": 71
        },
        {
          "output_type": "display_data",
          "data": {
            "image/png": "[encoded data removed]",
            "text/plain": [
              "<Figure size 864x432 with 1 Axes>"
            ]
          },
          "metadata": {}
        }
      ]
    },
    {
      "cell_type": "code",
      "source": [
        "from sklearn.metrics import f1_score, recall_score\n",
        "\n",
        "models = {\n",
        "    'dt':best_pipe_dt,\n",
        "    'rf':best_pipe_rf\n",
        "}\n",
        "metrics = {\n",
        "    'f1_score':f1_score,\n",
        "    'recall':recall_score\n",
        "}\n",
        "\n",
        "fraud_model = pd.DataFrame(columns=models.keys(), index=['f1_score','recall'])\n",
        "\n",
        "for metric in metrics.keys():\n",
        "    for model in models.keys():\n",
        "        fraud_model.loc[metric, model] = metrics[metric](y_test, models[model].predict(X_test))"
      ],
      "metadata": {
        "id": "OOdq2XNDSSr9"
      },
      "execution_count": null,
      "outputs": []
    },
    {
      "cell_type": "code",
      "source": [
        "fraud_model"
      ],
      "metadata": {
        "colab": {
          "base_uri": "https://localhost:8080/",
          "height": 112
        },
        "id": "3lOpu4CJSXep",
        "outputId": "7102ab1a-bd4f-4be3-c4ad-abba9301f9d3"
      },
      "execution_count": null,
      "outputs": [
        {
          "output_type": "execute_result",
          "data": {
            "text/html": [
              "\n",
              "  <div id=\"df-9a9e25f7-379d-40b1-a893-f344b8514b71\">\n",
              "    <div class=\"colab-df-container\">\n",
              "      <div>\n",
              "<style scoped>\n",
              "    .dataframe tbody tr th:only-of-type {\n",
              "        vertical-align: middle;\n",
              "    }\n",
              "\n",
              "    .dataframe tbody tr th {\n",
              "        vertical-align: top;\n",
              "    }\n",
              "\n",
              "    .dataframe thead th {\n",
              "        text-align: right;\n",
              "    }\n",
              "</style>\n",
              "<table border=\"1\" class=\"dataframe\">\n",
              "  <thead>\n",
              "    <tr style=\"text-align: right;\">\n",
              "      <th></th>\n",
              "      <th>dt</th>\n",
              "      <th>rf</th>\n",
              "    </tr>\n",
              "  </thead>\n",
              "  <tbody>\n",
              "    <tr>\n",
              "      <th>f1_score</th>\n",
              "      <td>0.735294</td>\n",
              "      <td>0.854054</td>\n",
              "    </tr>\n",
              "    <tr>\n",
              "      <th>recall</th>\n",
              "      <td>0.824176</td>\n",
              "      <td>0.868132</td>\n",
              "    </tr>\n",
              "  </tbody>\n",
              "</table>\n",
              "</div>\n",
              "      <button class=\"colab-df-convert\" onclick=\"convertToInteractive('df-9a9e25f7-379d-40b1-a893-f344b8514b71')\"\n",
              "              title=\"Convert this dataframe to an interactive table.\"\n",
              "              style=\"display:none;\">\n",
              "        \n",
              "  <svg xmlns=\"http://www.w3.org/2000/svg\" height=\"24px\"viewBox=\"0 0 24 24\"\n",
              "       width=\"24px\">\n",
              "    <path d=\"M0 0h24v24H0V0z\" fill=\"none\"/>\n",
              "    <path d=\"M18.56 5.44l.94 2.06.94-2.06 2.06-.94-2.06-.94-.94-2.06-.94 2.06-2.06.94zm-11 1L8.5 8.5l.94-2.06 2.06-.94-2.06-.94L8.5 2.5l-.94 2.06-2.06.94zm10 10l.94 2.06.94-2.06 2.06-.94-2.06-.94-.94-2.06-.94 2.06-2.06.94z\"/><path d=\"M17.41 7.96l-1.37-1.37c-.4-.4-.92-.59-1.43-.59-.52 0-1.04.2-1.43.59L10.3 9.45l-7.72 7.72c-.78.78-.78 2.05 0 2.83L4 21.41c.39.39.9.59 1.41.59.51 0 1.02-.2 1.41-.59l7.78-7.78 2.81-2.81c.8-.78.8-2.07 0-2.86zM5.41 20L4 18.59l7.72-7.72 1.47 1.35L5.41 20z\"/>\n",
              "  </svg>\n",
              "      </button>\n",
              "      \n",
              "  <style>\n",
              "    .colab-df-container {\n",
              "      display:flex;\n",
              "      flex-wrap:wrap;\n",
              "      gap: 12px;\n",
              "    }\n",
              "\n",
              "    .colab-df-convert {\n",
              "      background-color: #E8F0FE;\n",
              "      border: none;\n",
              "      border-radius: 50%;\n",
              "      cursor: pointer;\n",
              "      display: none;\n",
              "      fill: #1967D2;\n",
              "      height: 32px;\n",
              "      padding: 0 0 0 0;\n",
              "      width: 32px;\n",
              "    }\n",
              "\n",
              "    .colab-df-convert:hover {\n",
              "      background-color: #E2EBFA;\n",
              "      box-shadow: 0px 1px 2px rgba(60, 64, 67, 0.3), 0px 1px 3px 1px rgba(60, 64, 67, 0.15);\n",
              "      fill: #174EA6;\n",
              "    }\n",
              "\n",
              "    [theme=dark] .colab-df-convert {\n",
              "      background-color: #3B4455;\n",
              "      fill: #D2E3FC;\n",
              "    }\n",
              "\n",
              "    [theme=dark] .colab-df-convert:hover {\n",
              "      background-color: #434B5C;\n",
              "      box-shadow: 0px 1px 3px 1px rgba(0, 0, 0, 0.15);\n",
              "      filter: drop-shadow(0px 1px 2px rgba(0, 0, 0, 0.3));\n",
              "      fill: #FFFFFF;\n",
              "    }\n",
              "  </style>\n",
              "\n",
              "      <script>\n",
              "        const buttonEl =\n",
              "          document.querySelector('#df-9a9e25f7-379d-40b1-a893-f344b8514b71 button.colab-df-convert');\n",
              "        buttonEl.style.display =\n",
              "          google.colab.kernel.accessAllowed ? 'block' : 'none';\n",
              "\n",
              "        async function convertToInteractive(key) {\n",
              "          const element = document.querySelector('#df-9a9e25f7-379d-40b1-a893-f344b8514b71');\n",
              "          const dataTable =\n",
              "            await google.colab.kernel.invokeFunction('convertToInteractive',\n",
              "                                                     [key], {});\n",
              "          if (!dataTable) return;\n",
              "\n",
              "          const docLinkHtml = 'Like what you see? Visit the ' +\n",
              "            '<a target=\"_blank\" href=https://colab.research.google.com/notebooks/data_table.ipynb>data table notebook</a>'\n",
              "            + ' to learn more about interactive tables.';\n",
              "          element.innerHTML = '';\n",
              "          dataTable['output_type'] = 'display_data';\n",
              "          await google.colab.output.renderOutput(dataTable, element);\n",
              "          const docLink = document.createElement('div');\n",
              "          docLink.innerHTML = docLinkHtml;\n",
              "          element.appendChild(docLink);\n",
              "        }\n",
              "      </script>\n",
              "    </div>\n",
              "  </div>\n",
              "  "
            ],
            "text/plain": [
              "                dt        rf\n",
              "f1_score  0.735294  0.854054\n",
              "recall    0.824176  0.868132"
            ]
          },
          "metadata": {},
          "execution_count": 73
        }
      ]
    },
    {
      "cell_type": "markdown",
      "source": [
        "###7.3 COMPARE BEFORE AND AFTER TUNING"
      ],
      "metadata": {
        "id": "gKTBIFkYSbu9"
      }
    },
    {
      "cell_type": "code",
      "source": [
        "plt.figure(figsize=(12,6))\n",
        "model_acc_notun = [dt_notun, dt, rf_notun, rf]\n",
        "model_name_notun = ['DecisionTree Notun', 'DecisionTree', 'RandomForest Notun', 'RandomForest']\n",
        "sns.barplot(x= model_acc_notun, y=model_name_notun, palette='magma')"
      ],
      "metadata": {
        "colab": {
          "base_uri": "https://localhost:8080/",
          "height": 394
        },
        "id": "tdthh2c0Seah",
        "outputId": "e92376d3-5ef6-4920-8e6b-8af626acadf5"
      },
      "execution_count": null,
      "outputs": [
        {
          "output_type": "execute_result",
          "data": {
            "text/plain": [
              "<matplotlib.axes._subplots.AxesSubplot at 0x7fa4c0b2b6d0>"
            ]
          },
          "metadata": {},
          "execution_count": 74
        },
        {
          "output_type": "display_data",
          "data": {
            "image/png": "[encoded data removed]",
            "text/plain": [
              "<Figure size 864x432 with 1 Axes>"
            ]
          },
          "metadata": {}
        }
      ]
    },
    {
      "cell_type": "markdown",
      "source": [
        "Best model for this case is random forest no tuning with better metric score"
      ],
      "metadata": {
        "id": "UZiU_pdLQXmy"
      }
    },
    {
      "cell_type": "markdown",
      "source": [
        "#8. SAVE MODEL"
      ],
      "metadata": {
        "id": "bF8nUGloS1xx"
      }
    },
    {
      "cell_type": "code",
      "source": [
        "import pickle\n",
        "\n",
        "# Save model\n",
        "pickle.dump(pipe_rf, open(\"rf_classifier.pickle\", \"wb\"))"
      ],
      "metadata": {
        "id": "cOBhooB6S3H2"
      },
      "execution_count": null,
      "outputs": []
    },
    {
      "cell_type": "markdown",
      "source": [
        "#9. LOAD MODEL"
      ],
      "metadata": {
        "id": "2v-G3T_1Wku6"
      }
    },
    {
      "cell_type": "code",
      "source": [
        "rf_model = pickle.load(open('rf_classifier.pickle', 'rb'))"
      ],
      "metadata": {
        "id": "4QNSurCWWd9E"
      },
      "execution_count": null,
      "outputs": []
    },
    {
      "cell_type": "code",
      "source": [
        "new_data = {'transactionAmount' : 12, 'No_Transactions':8, 'No_Orders':6, 'No_Payments':12,\n",
        "       'paymentMethodRegistrationFailure': 1, 'paymentMethodProvider': 9, 'transactionFailed': 1}\n",
        "\n",
        "pred = pd.DataFrame(new_data, index = ['NewCustomer'])\n",
        "pred"
      ],
      "metadata": {
        "colab": {
          "base_uri": "https://localhost:8080/",
          "height": 144
        },
        "id": "1zPyUheUW9Y6",
        "outputId": "50400da7-c6dc-4baf-9149-aeedbd5d4ba3"
      },
      "execution_count": null,
      "outputs": [
        {
          "output_type": "execute_result",
          "data": {
            "text/html": [
              "\n",
              "  <div id=\"df-4c9b2414-afd6-4d30-9789-e6286b3c82db\">\n",
              "    <div class=\"colab-df-container\">\n",
              "      <div>\n",
              "<style scoped>\n",
              "    .dataframe tbody tr th:only-of-type {\n",
              "        vertical-align: middle;\n",
              "    }\n",
              "\n",
              "    .dataframe tbody tr th {\n",
              "        vertical-align: top;\n",
              "    }\n",
              "\n",
              "    .dataframe thead th {\n",
              "        text-align: right;\n",
              "    }\n",
              "</style>\n",
              "<table border=\"1\" class=\"dataframe\">\n",
              "  <thead>\n",
              "    <tr style=\"text-align: right;\">\n",
              "      <th></th>\n",
              "      <th>transactionAmount</th>\n",
              "      <th>No_Transactions</th>\n",
              "      <th>No_Orders</th>\n",
              "      <th>No_Payments</th>\n",
              "      <th>paymentMethodRegistrationFailure</th>\n",
              "      <th>paymentMethodProvider</th>\n",
              "      <th>transactionFailed</th>\n",
              "    </tr>\n",
              "  </thead>\n",
              "  <tbody>\n",
              "    <tr>\n",
              "      <th>NewCustomer</th>\n",
              "      <td>12</td>\n",
              "      <td>8</td>\n",
              "      <td>6</td>\n",
              "      <td>12</td>\n",
              "      <td>1</td>\n",
              "      <td>9</td>\n",
              "      <td>1</td>\n",
              "    </tr>\n",
              "  </tbody>\n",
              "</table>\n",
              "</div>\n",
              "      <button class=\"colab-df-convert\" onclick=\"convertToInteractive('df-4c9b2414-afd6-4d30-9789-e6286b3c82db')\"\n",
              "              title=\"Convert this dataframe to an interactive table.\"\n",
              "              style=\"display:none;\">\n",
              "        \n",
              "  <svg xmlns=\"http://www.w3.org/2000/svg\" height=\"24px\"viewBox=\"0 0 24 24\"\n",
              "       width=\"24px\">\n",
              "    <path d=\"M0 0h24v24H0V0z\" fill=\"none\"/>\n",
              "    <path d=\"M18.56 5.44l.94 2.06.94-2.06 2.06-.94-2.06-.94-.94-2.06-.94 2.06-2.06.94zm-11 1L8.5 8.5l.94-2.06 2.06-.94-2.06-.94L8.5 2.5l-.94 2.06-2.06.94zm10 10l.94 2.06.94-2.06 2.06-.94-2.06-.94-.94-2.06-.94 2.06-2.06.94z\"/><path d=\"M17.41 7.96l-1.37-1.37c-.4-.4-.92-.59-1.43-.59-.52 0-1.04.2-1.43.59L10.3 9.45l-7.72 7.72c-.78.78-.78 2.05 0 2.83L4 21.41c.39.39.9.59 1.41.59.51 0 1.02-.2 1.41-.59l7.78-7.78 2.81-2.81c.8-.78.8-2.07 0-2.86zM5.41 20L4 18.59l7.72-7.72 1.47 1.35L5.41 20z\"/>\n",
              "  </svg>\n",
              "      </button>\n",
              "      \n",
              "  <style>\n",
              "    .colab-df-container {\n",
              "      display:flex;\n",
              "      flex-wrap:wrap;\n",
              "      gap: 12px;\n",
              "    }\n",
              "\n",
              "    .colab-df-convert {\n",
              "      background-color: #E8F0FE;\n",
              "      border: none;\n",
              "      border-radius: 50%;\n",
              "      cursor: pointer;\n",
              "      display: none;\n",
              "      fill: #1967D2;\n",
              "      height: 32px;\n",
              "      padding: 0 0 0 0;\n",
              "      width: 32px;\n",
              "    }\n",
              "\n",
              "    .colab-df-convert:hover {\n",
              "      background-color: #E2EBFA;\n",
              "      box-shadow: 0px 1px 2px rgba(60, 64, 67, 0.3), 0px 1px 3px 1px rgba(60, 64, 67, 0.15);\n",
              "      fill: #174EA6;\n",
              "    }\n",
              "\n",
              "    [theme=dark] .colab-df-convert {\n",
              "      background-color: #3B4455;\n",
              "      fill: #D2E3FC;\n",
              "    }\n",
              "\n",
              "    [theme=dark] .colab-df-convert:hover {\n",
              "      background-color: #434B5C;\n",
              "      box-shadow: 0px 1px 3px 1px rgba(0, 0, 0, 0.15);\n",
              "      filter: drop-shadow(0px 1px 2px rgba(0, 0, 0, 0.3));\n",
              "      fill: #FFFFFF;\n",
              "    }\n",
              "  </style>\n",
              "\n",
              "      <script>\n",
              "        const buttonEl =\n",
              "          document.querySelector('#df-4c9b2414-afd6-4d30-9789-e6286b3c82db button.colab-df-convert');\n",
              "        buttonEl.style.display =\n",
              "          google.colab.kernel.accessAllowed ? 'block' : 'none';\n",
              "\n",
              "        async function convertToInteractive(key) {\n",
              "          const element = document.querySelector('#df-4c9b2414-afd6-4d30-9789-e6286b3c82db');\n",
              "          const dataTable =\n",
              "            await google.colab.kernel.invokeFunction('convertToInteractive',\n",
              "                                                     [key], {});\n",
              "          if (!dataTable) return;\n",
              "\n",
              "          const docLinkHtml = 'Like what you see? Visit the ' +\n",
              "            '<a target=\"_blank\" href=https://colab.research.google.com/notebooks/data_table.ipynb>data table notebook</a>'\n",
              "            + ' to learn more about interactive tables.';\n",
              "          element.innerHTML = '';\n",
              "          dataTable['output_type'] = 'display_data';\n",
              "          await google.colab.output.renderOutput(dataTable, element);\n",
              "          const docLink = document.createElement('div');\n",
              "          docLink.innerHTML = docLinkHtml;\n",
              "          element.appendChild(docLink);\n",
              "        }\n",
              "      </script>\n",
              "    </div>\n",
              "  </div>\n",
              "  "
            ],
            "text/plain": [
              "             transactionAmount  ...  transactionFailed\n",
              "NewCustomer                 12  ...                  1\n",
              "\n",
              "[1 rows x 7 columns]"
            ]
          },
          "metadata": {},
          "execution_count": 83
        }
      ]
    },
    {
      "cell_type": "code",
      "source": [
        "rf_model.predict(pred)"
      ],
      "metadata": {
        "colab": {
          "base_uri": "https://localhost:8080/"
        },
        "id": "ljGw-S-JXYWv",
        "outputId": "7109b849-ec77-41f3-ece7-5d892cb58758"
      },
      "execution_count": null,
      "outputs": [
        {
          "output_type": "execute_result",
          "data": {
            "text/plain": [
              "array([1])"
            ]
          },
          "metadata": {},
          "execution_count": 84
        }
      ]
    },
    {
      "cell_type": "code",
      "source": [
        "new_data = {'transactionAmount' : 6, 'No_Transactions':3, 'No_Orders':2, 'No_Payments':2,\n",
        "       'paymentMethodRegistrationFailure': 0, 'paymentMethodProvider': 0, 'transactionFailed': 0}\n",
        "\n",
        "pred = pd.DataFrame(new_data, index = ['NewCustomer'])\n",
        "pred"
      ],
      "metadata": {
        "colab": {
          "base_uri": "https://localhost:8080/",
          "height": 144
        },
        "id": "OSYTRv5HYcev",
        "outputId": "c6599267-e713-4ff3-ddc7-2a4dd0f13b16"
      },
      "execution_count": null,
      "outputs": [
        {
          "output_type": "execute_result",
          "data": {
            "text/html": [
              "\n",
              "  <div id=\"df-d29532d4-a285-47a9-b27b-713d2c253144\">\n",
              "    <div class=\"colab-df-container\">\n",
              "      <div>\n",
              "<style scoped>\n",
              "    .dataframe tbody tr th:only-of-type {\n",
              "        vertical-align: middle;\n",
              "    }\n",
              "\n",
              "    .dataframe tbody tr th {\n",
              "        vertical-align: top;\n",
              "    }\n",
              "\n",
              "    .dataframe thead th {\n",
              "        text-align: right;\n",
              "    }\n",
              "</style>\n",
              "<table border=\"1\" class=\"dataframe\">\n",
              "  <thead>\n",
              "    <tr style=\"text-align: right;\">\n",
              "      <th></th>\n",
              "      <th>transactionAmount</th>\n",
              "      <th>No_Transactions</th>\n",
              "      <th>No_Orders</th>\n",
              "      <th>No_Payments</th>\n",
              "      <th>paymentMethodRegistrationFailure</th>\n",
              "      <th>paymentMethodProvider</th>\n",
              "      <th>transactionFailed</th>\n",
              "    </tr>\n",
              "  </thead>\n",
              "  <tbody>\n",
              "    <tr>\n",
              "      <th>NewCustomer</th>\n",
              "      <td>6</td>\n",
              "      <td>3</td>\n",
              "      <td>2</td>\n",
              "      <td>2</td>\n",
              "      <td>0</td>\n",
              "      <td>0</td>\n",
              "      <td>0</td>\n",
              "    </tr>\n",
              "  </tbody>\n",
              "</table>\n",
              "</div>\n",
              "      <button class=\"colab-df-convert\" onclick=\"convertToInteractive('df-d29532d4-a285-47a9-b27b-713d2c253144')\"\n",
              "              title=\"Convert this dataframe to an interactive table.\"\n",
              "              style=\"display:none;\">\n",
              "        \n",
              "  <svg xmlns=\"http://www.w3.org/2000/svg\" height=\"24px\"viewBox=\"0 0 24 24\"\n",
              "       width=\"24px\">\n",
              "    <path d=\"M0 0h24v24H0V0z\" fill=\"none\"/>\n",
              "    <path d=\"M18.56 5.44l.94 2.06.94-2.06 2.06-.94-2.06-.94-.94-2.06-.94 2.06-2.06.94zm-11 1L8.5 8.5l.94-2.06 2.06-.94-2.06-.94L8.5 2.5l-.94 2.06-2.06.94zm10 10l.94 2.06.94-2.06 2.06-.94-2.06-.94-.94-2.06-.94 2.06-2.06.94z\"/><path d=\"M17.41 7.96l-1.37-1.37c-.4-.4-.92-.59-1.43-.59-.52 0-1.04.2-1.43.59L10.3 9.45l-7.72 7.72c-.78.78-.78 2.05 0 2.83L4 21.41c.39.39.9.59 1.41.59.51 0 1.02-.2 1.41-.59l7.78-7.78 2.81-2.81c.8-.78.8-2.07 0-2.86zM5.41 20L4 18.59l7.72-7.72 1.47 1.35L5.41 20z\"/>\n",
              "  </svg>\n",
              "      </button>\n",
              "      \n",
              "  <style>\n",
              "    .colab-df-container {\n",
              "      display:flex;\n",
              "      flex-wrap:wrap;\n",
              "      gap: 12px;\n",
              "    }\n",
              "\n",
              "    .colab-df-convert {\n",
              "      background-color: #E8F0FE;\n",
              "      border: none;\n",
              "      border-radius: 50%;\n",
              "      cursor: pointer;\n",
              "      display: none;\n",
              "      fill: #1967D2;\n",
              "      height: 32px;\n",
              "      padding: 0 0 0 0;\n",
              "      width: 32px;\n",
              "    }\n",
              "\n",
              "    .colab-df-convert:hover {\n",
              "      background-color: #E2EBFA;\n",
              "      box-shadow: 0px 1px 2px rgba(60, 64, 67, 0.3), 0px 1px 3px 1px rgba(60, 64, 67, 0.15);\n",
              "      fill: #174EA6;\n",
              "    }\n",
              "\n",
              "    [theme=dark] .colab-df-convert {\n",
              "      background-color: #3B4455;\n",
              "      fill: #D2E3FC;\n",
              "    }\n",
              "\n",
              "    [theme=dark] .colab-df-convert:hover {\n",
              "      background-color: #434B5C;\n",
              "      box-shadow: 0px 1px 3px 1px rgba(0, 0, 0, 0.15);\n",
              "      filter: drop-shadow(0px 1px 2px rgba(0, 0, 0, 0.3));\n",
              "      fill: #FFFFFF;\n",
              "    }\n",
              "  </style>\n",
              "\n",
              "      <script>\n",
              "        const buttonEl =\n",
              "          document.querySelector('#df-d29532d4-a285-47a9-b27b-713d2c253144 button.colab-df-convert');\n",
              "        buttonEl.style.display =\n",
              "          google.colab.kernel.accessAllowed ? 'block' : 'none';\n",
              "\n",
              "        async function convertToInteractive(key) {\n",
              "          const element = document.querySelector('#df-d29532d4-a285-47a9-b27b-713d2c253144');\n",
              "          const dataTable =\n",
              "            await google.colab.kernel.invokeFunction('convertToInteractive',\n",
              "                                                     [key], {});\n",
              "          if (!dataTable) return;\n",
              "\n",
              "          const docLinkHtml = 'Like what you see? Visit the ' +\n",
              "            '<a target=\"_blank\" href=https://colab.research.google.com/notebooks/data_table.ipynb>data table notebook</a>'\n",
              "            + ' to learn more about interactive tables.';\n",
              "          element.innerHTML = '';\n",
              "          dataTable['output_type'] = 'display_data';\n",
              "          await google.colab.output.renderOutput(dataTable, element);\n",
              "          const docLink = document.createElement('div');\n",
              "          docLink.innerHTML = docLinkHtml;\n",
              "          element.appendChild(docLink);\n",
              "        }\n",
              "      </script>\n",
              "    </div>\n",
              "  </div>\n",
              "  "
            ],
            "text/plain": [
              "             transactionAmount  ...  transactionFailed\n",
              "NewCustomer                  6  ...                  0\n",
              "\n",
              "[1 rows x 7 columns]"
            ]
          },
          "metadata": {},
          "execution_count": 85
        }
      ]
    },
    {
      "cell_type": "code",
      "source": [
        "rf_model.predict(pred)"
      ],
      "metadata": {
        "colab": {
          "base_uri": "https://localhost:8080/"
        },
        "id": "gjRU7AUiYkr_",
        "outputId": "5dea6da9-68a7-4f26-8c76-ba228753226a"
      },
      "execution_count": null,
      "outputs": [
        {
          "output_type": "execute_result",
          "data": {
            "text/plain": [
              "array([0])"
            ]
          },
          "metadata": {},
          "execution_count": 86
        }
      ]
    }
  ]
}